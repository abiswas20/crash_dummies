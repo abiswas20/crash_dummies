{
 "cells": [
  {
   "cell_type": "markdown",
   "metadata": {},
   "source": [
    "# Project 5: Identifying High Risk Areas from NYC Traffic Conditions\n",
    "## *Template Notebook*\n",
    "\n",
    "In this notebook:\n",
    "\n",
    "* [Topic 1](#topic-1)\n",
    "* [Topic 2](#topic-2)\n",
    "\n",
    "#### Import Libraries & Read in Data"
   ]
  },
  {
   "cell_type": "code",
   "execution_count": 1,
   "metadata": {},
   "outputs": [],
   "source": [
    "## standard imports \n",
    "import pandas as pd \n",
    "import numpy as np\n",
    "import re\n",
    "## visualizations\n",
    "import matplotlib.pyplot as plt\n",
    "import seaborn as sns\n",
    "## preprocessing\n",
    "from sklearn.pipeline import make_pipeline\n",
    "from sklearn.preprocessing import StandardScaler, PolynomialFeatures\n",
    "from sklearn.feature_selection import SelectKBest, f_regression\n",
    "from sklearn.dummy import DummyClassifier\n",
    "## modeling\n",
    "from sklearn.linear_model import LogisticRegression, LinearRegression, Lasso, Ridge, ElasticNet\n",
    "from sklearn.model_selection import train_test_split, GridSearchCV\n",
    "from sklearn.neighbors import KNeighborsClassifier, KNeighborsRegressor\n",
    "from sklearn.svm import SVC, SVR\n",
    "from sklearn.naive_bayes import MultinomialNB\n",
    "## trees\n",
    "from sklearn.tree import DecisionTreeClassifier, DecisionTreeRegressor\n",
    "from sklearn.ensemble import BaggingClassifier, BaggingRegressor, RandomForestClassifier, ExtraTreesClassifier, RandomForestRegressor, ExtraTreesRegressor, AdaBoostRegressor, AdaBoostClassifier, GradientBoostingRegressor\n",
    "## NLP\n",
    "from sklearn.feature_extraction.text import CountVectorizer\n",
    "## analysis\n",
    "from sklearn.metrics import confusion_matrix, plot_confusion_matrix, accuracy_score, make_scorer, f1_score, mean_squared_error\n",
    "\n",
    "## options\n",
    "import sklearn\n",
    "pd.options.display.max_rows = 4000\n",
    "pd.options.display.max_columns = 100\n",
    "pd.set_option('max_colwidth', 100)"
   ]
  },
  {
   "cell_type": "code",
   "execution_count": 61,
   "metadata": {},
   "outputs": [],
   "source": [
    "### read in data\n",
    "data = pd.read_csv('../data_large/selected_data.csv')"
   ]
  },
  {
   "cell_type": "markdown",
   "metadata": {},
   "source": [
    "Trimmed data from https://data.cityofnewyork.us/Public-Safety/Motor-Vehicle-Collisions-Vehicles/bm4k-52h4"
   ]
  },
  {
   "cell_type": "code",
   "execution_count": 62,
   "metadata": {},
   "outputs": [
    {
     "name": "stdout",
     "output_type": "stream",
     "text": [
      "<class 'pandas.core.frame.DataFrame'>\n",
      "RangeIndex: 1150196 entries, 0 to 1150195\n",
      "Data columns (total 14 columns):\n",
      " #   Column                  Non-Null Count    Dtype  \n",
      "---  ------                  --------------    -----  \n",
      " 0   Unnamed: 0              1150196 non-null  int64  \n",
      " 1   ID                      1150196 non-null  int64  \n",
      " 2   SPEED                   1150196 non-null  float64\n",
      " 3   TRAVEL_TIME             1150196 non-null  int64  \n",
      " 4   STATUS                  1150196 non-null  int64  \n",
      " 5   DATA_AS_OF              1150196 non-null  object \n",
      " 6   LINK_ID                 1150196 non-null  int64  \n",
      " 7   LINK_POINTS             1150196 non-null  object \n",
      " 8   ENCODED_POLY_LINE       1150196 non-null  object \n",
      " 9   ENCODED_POLY_LINE_LVLS  1150196 non-null  object \n",
      " 10  OWNER                   1150196 non-null  object \n",
      " 11  TRANSCOM_ID             1150196 non-null  int64  \n",
      " 12  BOROUGH                 1150196 non-null  object \n",
      " 13  LINK_NAME               1150196 non-null  object \n",
      "dtypes: float64(1), int64(6), object(7)\n",
      "memory usage: 122.9+ MB\n"
     ]
    }
   ],
   "source": [
    "data.info()"
   ]
  },
  {
   "cell_type": "code",
   "execution_count": 67,
   "metadata": {},
   "outputs": [
    {
     "data": {
      "text/plain": [
       "(1150196, 14)"
      ]
     },
     "execution_count": 67,
     "metadata": {},
     "output_type": "execute_result"
    }
   ],
   "source": [
    "data.shape"
   ]
  },
  {
   "cell_type": "code",
   "execution_count": null,
   "metadata": {},
   "outputs": [],
   "source": []
  },
  {
   "cell_type": "code",
   "execution_count": 68,
   "metadata": {},
   "outputs": [
    {
     "data": {
      "text/html": [
       "<div>\n",
       "<style scoped>\n",
       "    .dataframe tbody tr th:only-of-type {\n",
       "        vertical-align: middle;\n",
       "    }\n",
       "\n",
       "    .dataframe tbody tr th {\n",
       "        vertical-align: top;\n",
       "    }\n",
       "\n",
       "    .dataframe thead th {\n",
       "        text-align: right;\n",
       "    }\n",
       "</style>\n",
       "<table border=\"1\" class=\"dataframe\">\n",
       "  <thead>\n",
       "    <tr style=\"text-align: right;\">\n",
       "      <th></th>\n",
       "      <th>Unnamed: 0</th>\n",
       "      <th>ID</th>\n",
       "      <th>SPEED</th>\n",
       "      <th>TRAVEL_TIME</th>\n",
       "      <th>STATUS</th>\n",
       "      <th>DATA_AS_OF</th>\n",
       "      <th>LINK_ID</th>\n",
       "      <th>LINK_POINTS</th>\n",
       "      <th>ENCODED_POLY_LINE</th>\n",
       "      <th>ENCODED_POLY_LINE_LVLS</th>\n",
       "      <th>OWNER</th>\n",
       "      <th>TRANSCOM_ID</th>\n",
       "      <th>BOROUGH</th>\n",
       "      <th>LINK_NAME</th>\n",
       "    </tr>\n",
       "  </thead>\n",
       "  <tbody>\n",
       "    <tr>\n",
       "      <th>0</th>\n",
       "      <td>1674431</td>\n",
       "      <td>315</td>\n",
       "      <td>49.08</td>\n",
       "      <td>101</td>\n",
       "      <td>0</td>\n",
       "      <td>2019-05-20 19:29:13</td>\n",
       "      <td>4616364</td>\n",
       "      <td>40.73744001,-73.85188001  40.737015,-73.85373001  40.73673,-73.85543001  40.736526,-73.85631001 ...</td>\n",
       "      <td>_pswFfewaMtApJv@rIh@nDlFbXhH`]bJla@|@`FbHz\\fBvG</td>\n",
       "      <td>BBBBBBBBBB</td>\n",
       "      <td>NYC_DOT_LIC</td>\n",
       "      <td>4616364</td>\n",
       "      <td>Queens</td>\n",
       "      <td>LIE W 108TH ST - 84TH ST</td>\n",
       "    </tr>\n",
       "    <tr>\n",
       "      <th>1</th>\n",
       "      <td>1674412</td>\n",
       "      <td>258</td>\n",
       "      <td>34.79</td>\n",
       "      <td>122</td>\n",
       "      <td>0</td>\n",
       "      <td>2019-05-20 19:29:13</td>\n",
       "      <td>4616220</td>\n",
       "      <td>40.6162405,-74.02612 40.61923,-74.02361 40.62362,-74.019831 40.6248406,-74.019061 40.62579,-74.0...</td>\n",
       "      <td>oz{vFffybMuQuNmZsVsFyC}D}AeLmDeO_E{JkCaEg@</td>\n",
       "      <td>BBBBBBBBB</td>\n",
       "      <td>NYC_DOT_LIC</td>\n",
       "      <td>4616220</td>\n",
       "      <td>Brooklyn</td>\n",
       "      <td>GOW N 92ND STREET - 7TH AVENUE</td>\n",
       "    </tr>\n",
       "    <tr>\n",
       "      <th>2</th>\n",
       "      <td>1674410</td>\n",
       "      <td>382</td>\n",
       "      <td>0.00</td>\n",
       "      <td>0</td>\n",
       "      <td>-101</td>\n",
       "      <td>2019-05-20 19:29:13</td>\n",
       "      <td>4616216</td>\n",
       "      <td>40.63089,-74.14569 40.6298,-74.14569 40.62883,-74.14556 40.62805,-74.145451 40.6272105,-74.14546...</td>\n",
       "      <td>av~vFpqpcMxE?`EYzCUfD@|CZtDdAnCd@`Cz@rCdAzCzAvDlCzNlNfEfEbChBhD~AjJnBnVzDtA]|@cBD_Bq@qAaBD</td>\n",
       "      <td>BBBBBBBBBBBBBBBBBBBBBBB</td>\n",
       "      <td>NYC_DOT_LIC</td>\n",
       "      <td>4616216</td>\n",
       "      <td>Staten Island</td>\n",
       "      <td>SIE E-MLK N RICHMOND AVENUE - WALKER STREET</td>\n",
       "    </tr>\n",
       "    <tr>\n",
       "      <th>3</th>\n",
       "      <td>1674409</td>\n",
       "      <td>388</td>\n",
       "      <td>52.81</td>\n",
       "      <td>54</td>\n",
       "      <td>0</td>\n",
       "      <td>2019-05-20 19:29:13</td>\n",
       "      <td>4616211</td>\n",
       "      <td>40.6151706,-74.15738 40.61739,-74.16056 40.6205405,-74.16683 40.6209604,-74.16791 40.6210504,-74...</td>\n",
       "      <td>ys{vFrzrcM{LzRuRdf@sAvEQv@[lB</td>\n",
       "      <td>BBBBBB</td>\n",
       "      <td>NYC_DOT_LIC</td>\n",
       "      <td>4616211</td>\n",
       "      <td>Staten Island</td>\n",
       "      <td>SIE W RICHMOND AVENUE - SOUTH AVENUE</td>\n",
       "    </tr>\n",
       "    <tr>\n",
       "      <th>4</th>\n",
       "      <td>1674408</td>\n",
       "      <td>351</td>\n",
       "      <td>0.00</td>\n",
       "      <td>0</td>\n",
       "      <td>-101</td>\n",
       "      <td>2019-05-20 19:29:13</td>\n",
       "      <td>4616210</td>\n",
       "      <td>40.63092,-74.14592 40.62975,-74.14593 40.62877,-74.14579 40.6279506,-74.145671 40.62713,-74.1456...</td>\n",
       "      <td>gv~vF~rpcMhF@bE[bDWbD@vCb@|D~@dCf@`Cv@jCjA~CzAhDfCrDjDfJ~IhDhDxB~AlDlBdEdArDp@jC|Bt@zBCjDeB~DgAzA</td>\n",
       "      <td>BBBBBBBBBBBBBBBBBBBBBBBB</td>\n",
       "      <td>NYC_DOT_LIC</td>\n",
       "      <td>4616210</td>\n",
       "      <td>Staten Island</td>\n",
       "      <td>MLK S - SIE W WALKER STREET - RICHMOND AVENUE</td>\n",
       "    </tr>\n",
       "  </tbody>\n",
       "</table>\n",
       "</div>"
      ],
      "text/plain": [
       "   Unnamed: 0   ID  SPEED  TRAVEL_TIME  STATUS           DATA_AS_OF  LINK_ID  \\\n",
       "0     1674431  315  49.08          101       0  2019-05-20 19:29:13  4616364   \n",
       "1     1674412  258  34.79          122       0  2019-05-20 19:29:13  4616220   \n",
       "2     1674410  382   0.00            0    -101  2019-05-20 19:29:13  4616216   \n",
       "3     1674409  388  52.81           54       0  2019-05-20 19:29:13  4616211   \n",
       "4     1674408  351   0.00            0    -101  2019-05-20 19:29:13  4616210   \n",
       "\n",
       "                                                                                           LINK_POINTS  \\\n",
       "0  40.73744001,-73.85188001  40.737015,-73.85373001  40.73673,-73.85543001  40.736526,-73.85631001 ...   \n",
       "1  40.6162405,-74.02612 40.61923,-74.02361 40.62362,-74.019831 40.6248406,-74.019061 40.62579,-74.0...   \n",
       "2  40.63089,-74.14569 40.6298,-74.14569 40.62883,-74.14556 40.62805,-74.145451 40.6272105,-74.14546...   \n",
       "3  40.6151706,-74.15738 40.61739,-74.16056 40.6205405,-74.16683 40.6209604,-74.16791 40.6210504,-74...   \n",
       "4  40.63092,-74.14592 40.62975,-74.14593 40.62877,-74.14579 40.6279506,-74.145671 40.62713,-74.1456...   \n",
       "\n",
       "                                                                                   ENCODED_POLY_LINE  \\\n",
       "0                                                    _pswFfewaMtApJv@rIh@nDlFbXhH`]bJla@|@`FbHz\\fBvG   \n",
       "1                                                         oz{vFffybMuQuNmZsVsFyC}D}AeLmDeO_E{JkCaEg@   \n",
       "2         av~vFpqpcMxE?`EYzCUfD@|CZtDdAnCd@`Cz@rCdAzCzAvDlCzNlNfEfEbChBhD~AjJnBnVzDtA]|@cBD_Bq@qAaBD   \n",
       "3                                                                      ys{vFrzrcM{LzRuRdf@sAvEQv@[lB   \n",
       "4  gv~vF~rpcMhF@bE[bDWbD@vCb@|D~@dCf@`Cv@jCjA~CzAhDfCrDjDfJ~IhDhDxB~AlDlBdEdArDp@jC|Bt@zBCjDeB~DgAzA   \n",
       "\n",
       "     ENCODED_POLY_LINE_LVLS        OWNER  TRANSCOM_ID        BOROUGH  \\\n",
       "0                BBBBBBBBBB  NYC_DOT_LIC      4616364         Queens   \n",
       "1                 BBBBBBBBB  NYC_DOT_LIC      4616220       Brooklyn   \n",
       "2   BBBBBBBBBBBBBBBBBBBBBBB  NYC_DOT_LIC      4616216  Staten Island   \n",
       "3                    BBBBBB  NYC_DOT_LIC      4616211  Staten Island   \n",
       "4  BBBBBBBBBBBBBBBBBBBBBBBB  NYC_DOT_LIC      4616210  Staten Island   \n",
       "\n",
       "                                       LINK_NAME  \n",
       "0                       LIE W 108TH ST - 84TH ST  \n",
       "1                 GOW N 92ND STREET - 7TH AVENUE  \n",
       "2    SIE E-MLK N RICHMOND AVENUE - WALKER STREET  \n",
       "3           SIE W RICHMOND AVENUE - SOUTH AVENUE  \n",
       "4  MLK S - SIE W WALKER STREET - RICHMOND AVENUE  "
      ]
     },
     "execution_count": 68,
     "metadata": {},
     "output_type": "execute_result"
    }
   ],
   "source": [
    "data.head()"
   ]
  },
  {
   "cell_type": "markdown",
   "metadata": {},
   "source": [
    "Notes on data:\n",
    "\n",
    "* ID and LINK_ID are the same (according to the data dictionary) Drop one of these (I say ID so LINK_ID is easy to associate to LINK_POINTS\n",
    "* Says both STATUS and TRANSCOM_ID are not useful (artifacts) -- drop these\n",
    "* TRAVEL_TIME - units? -- drop\n",
    "* Unnamed: 0 -- need to remove index from data set when export to csv\n",
    "\n"
   ]
  },
  {
   "cell_type": "code",
   "execution_count": 42,
   "metadata": {},
   "outputs": [
    {
     "data": {
      "text/plain": [
       "Index(['Unnamed: 0', 'ID', 'SPEED', 'TRAVEL_TIME', 'STATUS', 'DATA_AS_OF',\n",
       "       'LINK_ID', 'LINK_POINTS', 'ENCODED_POLY_LINE', 'ENCODED_POLY_LINE_LVLS',\n",
       "       'OWNER', 'TRANSCOM_ID', 'BOROUGH', 'LINK_NAME'],\n",
       "      dtype='object')"
      ]
     },
     "execution_count": 42,
     "metadata": {},
     "output_type": "execute_result"
    }
   ],
   "source": [
    "data.columns"
   ]
  },
  {
   "cell_type": "code",
   "execution_count": 69,
   "metadata": {},
   "outputs": [],
   "source": [
    "drop_cols = ['Unnamed: 0', 'ID', 'TRAVEL_TIME', 'STATUS',\n",
    "       'OWNER', 'TRANSCOM_ID', ]\n",
    "data.drop(columns=drop_cols, axis=1, inplace=True)"
   ]
  },
  {
   "cell_type": "code",
   "execution_count": 70,
   "metadata": {},
   "outputs": [
    {
     "data": {
      "text/html": [
       "<div>\n",
       "<style scoped>\n",
       "    .dataframe tbody tr th:only-of-type {\n",
       "        vertical-align: middle;\n",
       "    }\n",
       "\n",
       "    .dataframe tbody tr th {\n",
       "        vertical-align: top;\n",
       "    }\n",
       "\n",
       "    .dataframe thead th {\n",
       "        text-align: right;\n",
       "    }\n",
       "</style>\n",
       "<table border=\"1\" class=\"dataframe\">\n",
       "  <thead>\n",
       "    <tr style=\"text-align: right;\">\n",
       "      <th></th>\n",
       "      <th>SPEED</th>\n",
       "      <th>DATA_AS_OF</th>\n",
       "      <th>LINK_ID</th>\n",
       "      <th>LINK_POINTS</th>\n",
       "      <th>ENCODED_POLY_LINE</th>\n",
       "      <th>ENCODED_POLY_LINE_LVLS</th>\n",
       "      <th>BOROUGH</th>\n",
       "      <th>LINK_NAME</th>\n",
       "    </tr>\n",
       "  </thead>\n",
       "  <tbody>\n",
       "    <tr>\n",
       "      <th>0</th>\n",
       "      <td>49.08</td>\n",
       "      <td>2019-05-20 19:29:13</td>\n",
       "      <td>4616364</td>\n",
       "      <td>40.73744001,-73.85188001  40.737015,-73.85373001  40.73673,-73.85543001  40.736526,-73.85631001 ...</td>\n",
       "      <td>_pswFfewaMtApJv@rIh@nDlFbXhH`]bJla@|@`FbHz\\fBvG</td>\n",
       "      <td>BBBBBBBBBB</td>\n",
       "      <td>Queens</td>\n",
       "      <td>LIE W 108TH ST - 84TH ST</td>\n",
       "    </tr>\n",
       "    <tr>\n",
       "      <th>1</th>\n",
       "      <td>34.79</td>\n",
       "      <td>2019-05-20 19:29:13</td>\n",
       "      <td>4616220</td>\n",
       "      <td>40.6162405,-74.02612 40.61923,-74.02361 40.62362,-74.019831 40.6248406,-74.019061 40.62579,-74.0...</td>\n",
       "      <td>oz{vFffybMuQuNmZsVsFyC}D}AeLmDeO_E{JkCaEg@</td>\n",
       "      <td>BBBBBBBBB</td>\n",
       "      <td>Brooklyn</td>\n",
       "      <td>GOW N 92ND STREET - 7TH AVENUE</td>\n",
       "    </tr>\n",
       "    <tr>\n",
       "      <th>2</th>\n",
       "      <td>0.00</td>\n",
       "      <td>2019-05-20 19:29:13</td>\n",
       "      <td>4616216</td>\n",
       "      <td>40.63089,-74.14569 40.6298,-74.14569 40.62883,-74.14556 40.62805,-74.145451 40.6272105,-74.14546...</td>\n",
       "      <td>av~vFpqpcMxE?`EYzCUfD@|CZtDdAnCd@`Cz@rCdAzCzAvDlCzNlNfEfEbChBhD~AjJnBnVzDtA]|@cBD_Bq@qAaBD</td>\n",
       "      <td>BBBBBBBBBBBBBBBBBBBBBBB</td>\n",
       "      <td>Staten Island</td>\n",
       "      <td>SIE E-MLK N RICHMOND AVENUE - WALKER STREET</td>\n",
       "    </tr>\n",
       "    <tr>\n",
       "      <th>3</th>\n",
       "      <td>52.81</td>\n",
       "      <td>2019-05-20 19:29:13</td>\n",
       "      <td>4616211</td>\n",
       "      <td>40.6151706,-74.15738 40.61739,-74.16056 40.6205405,-74.16683 40.6209604,-74.16791 40.6210504,-74...</td>\n",
       "      <td>ys{vFrzrcM{LzRuRdf@sAvEQv@[lB</td>\n",
       "      <td>BBBBBB</td>\n",
       "      <td>Staten Island</td>\n",
       "      <td>SIE W RICHMOND AVENUE - SOUTH AVENUE</td>\n",
       "    </tr>\n",
       "    <tr>\n",
       "      <th>4</th>\n",
       "      <td>0.00</td>\n",
       "      <td>2019-05-20 19:29:13</td>\n",
       "      <td>4616210</td>\n",
       "      <td>40.63092,-74.14592 40.62975,-74.14593 40.62877,-74.14579 40.6279506,-74.145671 40.62713,-74.1456...</td>\n",
       "      <td>gv~vF~rpcMhF@bE[bDWbD@vCb@|D~@dCf@`Cv@jCjA~CzAhDfCrDjDfJ~IhDhDxB~AlDlBdEdArDp@jC|Bt@zBCjDeB~DgAzA</td>\n",
       "      <td>BBBBBBBBBBBBBBBBBBBBBBBB</td>\n",
       "      <td>Staten Island</td>\n",
       "      <td>MLK S - SIE W WALKER STREET - RICHMOND AVENUE</td>\n",
       "    </tr>\n",
       "  </tbody>\n",
       "</table>\n",
       "</div>"
      ],
      "text/plain": [
       "   SPEED           DATA_AS_OF  LINK_ID  \\\n",
       "0  49.08  2019-05-20 19:29:13  4616364   \n",
       "1  34.79  2019-05-20 19:29:13  4616220   \n",
       "2   0.00  2019-05-20 19:29:13  4616216   \n",
       "3  52.81  2019-05-20 19:29:13  4616211   \n",
       "4   0.00  2019-05-20 19:29:13  4616210   \n",
       "\n",
       "                                                                                           LINK_POINTS  \\\n",
       "0  40.73744001,-73.85188001  40.737015,-73.85373001  40.73673,-73.85543001  40.736526,-73.85631001 ...   \n",
       "1  40.6162405,-74.02612 40.61923,-74.02361 40.62362,-74.019831 40.6248406,-74.019061 40.62579,-74.0...   \n",
       "2  40.63089,-74.14569 40.6298,-74.14569 40.62883,-74.14556 40.62805,-74.145451 40.6272105,-74.14546...   \n",
       "3  40.6151706,-74.15738 40.61739,-74.16056 40.6205405,-74.16683 40.6209604,-74.16791 40.6210504,-74...   \n",
       "4  40.63092,-74.14592 40.62975,-74.14593 40.62877,-74.14579 40.6279506,-74.145671 40.62713,-74.1456...   \n",
       "\n",
       "                                                                                   ENCODED_POLY_LINE  \\\n",
       "0                                                    _pswFfewaMtApJv@rIh@nDlFbXhH`]bJla@|@`FbHz\\fBvG   \n",
       "1                                                         oz{vFffybMuQuNmZsVsFyC}D}AeLmDeO_E{JkCaEg@   \n",
       "2         av~vFpqpcMxE?`EYzCUfD@|CZtDdAnCd@`Cz@rCdAzCzAvDlCzNlNfEfEbChBhD~AjJnBnVzDtA]|@cBD_Bq@qAaBD   \n",
       "3                                                                      ys{vFrzrcM{LzRuRdf@sAvEQv@[lB   \n",
       "4  gv~vF~rpcMhF@bE[bDWbD@vCb@|D~@dCf@`Cv@jCjA~CzAhDfCrDjDfJ~IhDhDxB~AlDlBdEdArDp@jC|Bt@zBCjDeB~DgAzA   \n",
       "\n",
       "     ENCODED_POLY_LINE_LVLS        BOROUGH  \\\n",
       "0                BBBBBBBBBB         Queens   \n",
       "1                 BBBBBBBBB       Brooklyn   \n",
       "2   BBBBBBBBBBBBBBBBBBBBBBB  Staten Island   \n",
       "3                    BBBBBB  Staten Island   \n",
       "4  BBBBBBBBBBBBBBBBBBBBBBBB  Staten Island   \n",
       "\n",
       "                                       LINK_NAME  \n",
       "0                       LIE W 108TH ST - 84TH ST  \n",
       "1                 GOW N 92ND STREET - 7TH AVENUE  \n",
       "2    SIE E-MLK N RICHMOND AVENUE - WALKER STREET  \n",
       "3           SIE W RICHMOND AVENUE - SOUTH AVENUE  \n",
       "4  MLK S - SIE W WALKER STREET - RICHMOND AVENUE  "
      ]
     },
     "execution_count": 70,
     "metadata": {},
     "output_type": "execute_result"
    }
   ],
   "source": [
    "data.head()"
   ]
  },
  {
   "cell_type": "code",
   "execution_count": 71,
   "metadata": {},
   "outputs": [
    {
     "name": "stdout",
     "output_type": "stream",
     "text": [
      "<class 'pandas.core.frame.DataFrame'>\n",
      "RangeIndex: 1150196 entries, 0 to 1150195\n",
      "Data columns (total 8 columns):\n",
      " #   Column                  Non-Null Count    Dtype  \n",
      "---  ------                  --------------    -----  \n",
      " 0   SPEED                   1150196 non-null  float64\n",
      " 1   DATA_AS_OF              1150196 non-null  object \n",
      " 2   LINK_ID                 1150196 non-null  int64  \n",
      " 3   LINK_POINTS             1150196 non-null  object \n",
      " 4   ENCODED_POLY_LINE       1150196 non-null  object \n",
      " 5   ENCODED_POLY_LINE_LVLS  1150196 non-null  object \n",
      " 6   BOROUGH                 1150196 non-null  object \n",
      " 7   LINK_NAME               1150196 non-null  object \n",
      "dtypes: float64(1), int64(1), object(6)\n",
      "memory usage: 70.2+ MB\n"
     ]
    }
   ],
   "source": [
    "data.info()"
   ]
  },
  {
   "cell_type": "code",
   "execution_count": 72,
   "metadata": {},
   "outputs": [
    {
     "data": {
      "text/plain": [
       "Index(['SPEED', 'DATA_AS_OF', 'LINK_ID', 'LINK_POINTS', 'ENCODED_POLY_LINE',\n",
       "       'ENCODED_POLY_LINE_LVLS', 'BOROUGH', 'LINK_NAME'],\n",
       "      dtype='object')"
      ]
     },
     "execution_count": 72,
     "metadata": {},
     "output_type": "execute_result"
    }
   ],
   "source": [
    "data.columns"
   ]
  },
  {
   "cell_type": "code",
   "execution_count": 73,
   "metadata": {},
   "outputs": [],
   "source": [
    "### make column names lowercase\n",
    "data.columns = map(str.lower, data.columns)"
   ]
  },
  {
   "cell_type": "code",
   "execution_count": 74,
   "metadata": {},
   "outputs": [
    {
     "data": {
      "text/plain": [
       "Index(['speed', 'data_as_of', 'link_id', 'link_points', 'encoded_poly_line',\n",
       "       'encoded_poly_line_lvls', 'borough', 'link_name'],\n",
       "      dtype='object')"
      ]
     },
     "execution_count": 74,
     "metadata": {},
     "output_type": "execute_result"
    }
   ],
   "source": [
    "data.columns"
   ]
  },
  {
   "cell_type": "code",
   "execution_count": 75,
   "metadata": {},
   "outputs": [
    {
     "data": {
      "text/html": [
       "<div>\n",
       "<style scoped>\n",
       "    .dataframe tbody tr th:only-of-type {\n",
       "        vertical-align: middle;\n",
       "    }\n",
       "\n",
       "    .dataframe tbody tr th {\n",
       "        vertical-align: top;\n",
       "    }\n",
       "\n",
       "    .dataframe thead th {\n",
       "        text-align: right;\n",
       "    }\n",
       "</style>\n",
       "<table border=\"1\" class=\"dataframe\">\n",
       "  <thead>\n",
       "    <tr style=\"text-align: right;\">\n",
       "      <th></th>\n",
       "      <th>speed</th>\n",
       "      <th>date_time</th>\n",
       "      <th>link_id</th>\n",
       "      <th>link_points</th>\n",
       "      <th>encoded_poly_line</th>\n",
       "      <th>encoded_poly_line_lvls</th>\n",
       "      <th>borough</th>\n",
       "      <th>link_name</th>\n",
       "    </tr>\n",
       "  </thead>\n",
       "  <tbody>\n",
       "    <tr>\n",
       "      <th>0</th>\n",
       "      <td>49.08</td>\n",
       "      <td>2019-05-20 19:29:13</td>\n",
       "      <td>4616364</td>\n",
       "      <td>40.73744001,-73.85188001  40.737015,-73.85373001  40.73673,-73.85543001  40.736526,-73.85631001 ...</td>\n",
       "      <td>_pswFfewaMtApJv@rIh@nDlFbXhH`]bJla@|@`FbHz\\fBvG</td>\n",
       "      <td>BBBBBBBBBB</td>\n",
       "      <td>Queens</td>\n",
       "      <td>LIE W 108TH ST - 84TH ST</td>\n",
       "    </tr>\n",
       "    <tr>\n",
       "      <th>1</th>\n",
       "      <td>34.79</td>\n",
       "      <td>2019-05-20 19:29:13</td>\n",
       "      <td>4616220</td>\n",
       "      <td>40.6162405,-74.02612 40.61923,-74.02361 40.62362,-74.019831 40.6248406,-74.019061 40.62579,-74.0...</td>\n",
       "      <td>oz{vFffybMuQuNmZsVsFyC}D}AeLmDeO_E{JkCaEg@</td>\n",
       "      <td>BBBBBBBBB</td>\n",
       "      <td>Brooklyn</td>\n",
       "      <td>GOW N 92ND STREET - 7TH AVENUE</td>\n",
       "    </tr>\n",
       "    <tr>\n",
       "      <th>2</th>\n",
       "      <td>0.00</td>\n",
       "      <td>2019-05-20 19:29:13</td>\n",
       "      <td>4616216</td>\n",
       "      <td>40.63089,-74.14569 40.6298,-74.14569 40.62883,-74.14556 40.62805,-74.145451 40.6272105,-74.14546...</td>\n",
       "      <td>av~vFpqpcMxE?`EYzCUfD@|CZtDdAnCd@`Cz@rCdAzCzAvDlCzNlNfEfEbChBhD~AjJnBnVzDtA]|@cBD_Bq@qAaBD</td>\n",
       "      <td>BBBBBBBBBBBBBBBBBBBBBBB</td>\n",
       "      <td>Staten Island</td>\n",
       "      <td>SIE E-MLK N RICHMOND AVENUE - WALKER STREET</td>\n",
       "    </tr>\n",
       "    <tr>\n",
       "      <th>3</th>\n",
       "      <td>52.81</td>\n",
       "      <td>2019-05-20 19:29:13</td>\n",
       "      <td>4616211</td>\n",
       "      <td>40.6151706,-74.15738 40.61739,-74.16056 40.6205405,-74.16683 40.6209604,-74.16791 40.6210504,-74...</td>\n",
       "      <td>ys{vFrzrcM{LzRuRdf@sAvEQv@[lB</td>\n",
       "      <td>BBBBBB</td>\n",
       "      <td>Staten Island</td>\n",
       "      <td>SIE W RICHMOND AVENUE - SOUTH AVENUE</td>\n",
       "    </tr>\n",
       "    <tr>\n",
       "      <th>4</th>\n",
       "      <td>0.00</td>\n",
       "      <td>2019-05-20 19:29:13</td>\n",
       "      <td>4616210</td>\n",
       "      <td>40.63092,-74.14592 40.62975,-74.14593 40.62877,-74.14579 40.6279506,-74.145671 40.62713,-74.1456...</td>\n",
       "      <td>gv~vF~rpcMhF@bE[bDWbD@vCb@|D~@dCf@`Cv@jCjA~CzAhDfCrDjDfJ~IhDhDxB~AlDlBdEdArDp@jC|Bt@zBCjDeB~DgAzA</td>\n",
       "      <td>BBBBBBBBBBBBBBBBBBBBBBBB</td>\n",
       "      <td>Staten Island</td>\n",
       "      <td>MLK S - SIE W WALKER STREET - RICHMOND AVENUE</td>\n",
       "    </tr>\n",
       "  </tbody>\n",
       "</table>\n",
       "</div>"
      ],
      "text/plain": [
       "   speed            date_time  link_id  \\\n",
       "0  49.08  2019-05-20 19:29:13  4616364   \n",
       "1  34.79  2019-05-20 19:29:13  4616220   \n",
       "2   0.00  2019-05-20 19:29:13  4616216   \n",
       "3  52.81  2019-05-20 19:29:13  4616211   \n",
       "4   0.00  2019-05-20 19:29:13  4616210   \n",
       "\n",
       "                                                                                           link_points  \\\n",
       "0  40.73744001,-73.85188001  40.737015,-73.85373001  40.73673,-73.85543001  40.736526,-73.85631001 ...   \n",
       "1  40.6162405,-74.02612 40.61923,-74.02361 40.62362,-74.019831 40.6248406,-74.019061 40.62579,-74.0...   \n",
       "2  40.63089,-74.14569 40.6298,-74.14569 40.62883,-74.14556 40.62805,-74.145451 40.6272105,-74.14546...   \n",
       "3  40.6151706,-74.15738 40.61739,-74.16056 40.6205405,-74.16683 40.6209604,-74.16791 40.6210504,-74...   \n",
       "4  40.63092,-74.14592 40.62975,-74.14593 40.62877,-74.14579 40.6279506,-74.145671 40.62713,-74.1456...   \n",
       "\n",
       "                                                                                   encoded_poly_line  \\\n",
       "0                                                    _pswFfewaMtApJv@rIh@nDlFbXhH`]bJla@|@`FbHz\\fBvG   \n",
       "1                                                         oz{vFffybMuQuNmZsVsFyC}D}AeLmDeO_E{JkCaEg@   \n",
       "2         av~vFpqpcMxE?`EYzCUfD@|CZtDdAnCd@`Cz@rCdAzCzAvDlCzNlNfEfEbChBhD~AjJnBnVzDtA]|@cBD_Bq@qAaBD   \n",
       "3                                                                      ys{vFrzrcM{LzRuRdf@sAvEQv@[lB   \n",
       "4  gv~vF~rpcMhF@bE[bDWbD@vCb@|D~@dCf@`Cv@jCjA~CzAhDfCrDjDfJ~IhDhDxB~AlDlBdEdArDp@jC|Bt@zBCjDeB~DgAzA   \n",
       "\n",
       "     encoded_poly_line_lvls        borough  \\\n",
       "0                BBBBBBBBBB         Queens   \n",
       "1                 BBBBBBBBB       Brooklyn   \n",
       "2   BBBBBBBBBBBBBBBBBBBBBBB  Staten Island   \n",
       "3                    BBBBBB  Staten Island   \n",
       "4  BBBBBBBBBBBBBBBBBBBBBBBB  Staten Island   \n",
       "\n",
       "                                       link_name  \n",
       "0                       LIE W 108TH ST - 84TH ST  \n",
       "1                 GOW N 92ND STREET - 7TH AVENUE  \n",
       "2    SIE E-MLK N RICHMOND AVENUE - WALKER STREET  \n",
       "3           SIE W RICHMOND AVENUE - SOUTH AVENUE  \n",
       "4  MLK S - SIE W WALKER STREET - RICHMOND AVENUE  "
      ]
     },
     "execution_count": 75,
     "metadata": {},
     "output_type": "execute_result"
    }
   ],
   "source": [
    "### rename columns\n",
    "rename_cols = {\n",
    "    'data_as_of' : 'date_time',\n",
    "}\n",
    "\n",
    "data.rename(columns=rename_cols, inplace=True)\n",
    "data.head()"
   ]
  },
  {
   "cell_type": "code",
   "execution_count": 76,
   "metadata": {},
   "outputs": [],
   "source": [
    "### convert date to datetime object\n",
    "data['date_time'] = pd.to_datetime(data['date_time'])"
   ]
  },
  {
   "cell_type": "code",
   "execution_count": 77,
   "metadata": {},
   "outputs": [
    {
     "name": "stdout",
     "output_type": "stream",
     "text": [
      "<class 'pandas.core.frame.DataFrame'>\n",
      "RangeIndex: 1150196 entries, 0 to 1150195\n",
      "Data columns (total 8 columns):\n",
      " #   Column                  Non-Null Count    Dtype         \n",
      "---  ------                  --------------    -----         \n",
      " 0   speed                   1150196 non-null  float64       \n",
      " 1   date_time               1150196 non-null  datetime64[ns]\n",
      " 2   link_id                 1150196 non-null  int64         \n",
      " 3   link_points             1150196 non-null  object        \n",
      " 4   encoded_poly_line       1150196 non-null  object        \n",
      " 5   encoded_poly_line_lvls  1150196 non-null  object        \n",
      " 6   borough                 1150196 non-null  object        \n",
      " 7   link_name               1150196 non-null  object        \n",
      "dtypes: datetime64[ns](1), float64(1), int64(1), object(5)\n",
      "memory usage: 70.2+ MB\n"
     ]
    }
   ],
   "source": [
    "data.info()"
   ]
  },
  {
   "cell_type": "code",
   "execution_count": 78,
   "metadata": {},
   "outputs": [
    {
     "data": {
      "text/html": [
       "<div>\n",
       "<style scoped>\n",
       "    .dataframe tbody tr th:only-of-type {\n",
       "        vertical-align: middle;\n",
       "    }\n",
       "\n",
       "    .dataframe tbody tr th {\n",
       "        vertical-align: top;\n",
       "    }\n",
       "\n",
       "    .dataframe thead th {\n",
       "        text-align: right;\n",
       "    }\n",
       "</style>\n",
       "<table border=\"1\" class=\"dataframe\">\n",
       "  <thead>\n",
       "    <tr style=\"text-align: right;\">\n",
       "      <th></th>\n",
       "      <th>speed</th>\n",
       "      <th>date_time</th>\n",
       "      <th>link_id</th>\n",
       "      <th>link_points</th>\n",
       "      <th>encoded_poly_line</th>\n",
       "      <th>encoded_poly_line_lvls</th>\n",
       "      <th>borough</th>\n",
       "      <th>link_name</th>\n",
       "    </tr>\n",
       "  </thead>\n",
       "  <tbody>\n",
       "    <tr>\n",
       "      <th>0</th>\n",
       "      <td>49.08</td>\n",
       "      <td>2019-05-20 19:29:13</td>\n",
       "      <td>4616364</td>\n",
       "      <td>40.73744001,-73.85188001  40.737015,-73.85373001  40.73673,-73.85543001  40.736526,-73.85631001 ...</td>\n",
       "      <td>_pswFfewaMtApJv@rIh@nDlFbXhH`]bJla@|@`FbHz\\fBvG</td>\n",
       "      <td>BBBBBBBBBB</td>\n",
       "      <td>Queens</td>\n",
       "      <td>LIE W 108TH ST - 84TH ST</td>\n",
       "    </tr>\n",
       "    <tr>\n",
       "      <th>1</th>\n",
       "      <td>34.79</td>\n",
       "      <td>2019-05-20 19:29:13</td>\n",
       "      <td>4616220</td>\n",
       "      <td>40.6162405,-74.02612 40.61923,-74.02361 40.62362,-74.019831 40.6248406,-74.019061 40.62579,-74.0...</td>\n",
       "      <td>oz{vFffybMuQuNmZsVsFyC}D}AeLmDeO_E{JkCaEg@</td>\n",
       "      <td>BBBBBBBBB</td>\n",
       "      <td>Brooklyn</td>\n",
       "      <td>GOW N 92ND STREET - 7TH AVENUE</td>\n",
       "    </tr>\n",
       "    <tr>\n",
       "      <th>2</th>\n",
       "      <td>0.00</td>\n",
       "      <td>2019-05-20 19:29:13</td>\n",
       "      <td>4616216</td>\n",
       "      <td>40.63089,-74.14569 40.6298,-74.14569 40.62883,-74.14556 40.62805,-74.145451 40.6272105,-74.14546...</td>\n",
       "      <td>av~vFpqpcMxE?`EYzCUfD@|CZtDdAnCd@`Cz@rCdAzCzAvDlCzNlNfEfEbChBhD~AjJnBnVzDtA]|@cBD_Bq@qAaBD</td>\n",
       "      <td>BBBBBBBBBBBBBBBBBBBBBBB</td>\n",
       "      <td>Staten Island</td>\n",
       "      <td>SIE E-MLK N RICHMOND AVENUE - WALKER STREET</td>\n",
       "    </tr>\n",
       "    <tr>\n",
       "      <th>3</th>\n",
       "      <td>52.81</td>\n",
       "      <td>2019-05-20 19:29:13</td>\n",
       "      <td>4616211</td>\n",
       "      <td>40.6151706,-74.15738 40.61739,-74.16056 40.6205405,-74.16683 40.6209604,-74.16791 40.6210504,-74...</td>\n",
       "      <td>ys{vFrzrcM{LzRuRdf@sAvEQv@[lB</td>\n",
       "      <td>BBBBBB</td>\n",
       "      <td>Staten Island</td>\n",
       "      <td>SIE W RICHMOND AVENUE - SOUTH AVENUE</td>\n",
       "    </tr>\n",
       "    <tr>\n",
       "      <th>4</th>\n",
       "      <td>0.00</td>\n",
       "      <td>2019-05-20 19:29:13</td>\n",
       "      <td>4616210</td>\n",
       "      <td>40.63092,-74.14592 40.62975,-74.14593 40.62877,-74.14579 40.6279506,-74.145671 40.62713,-74.1456...</td>\n",
       "      <td>gv~vF~rpcMhF@bE[bDWbD@vCb@|D~@dCf@`Cv@jCjA~CzAhDfCrDjDfJ~IhDhDxB~AlDlBdEdArDp@jC|Bt@zBCjDeB~DgAzA</td>\n",
       "      <td>BBBBBBBBBBBBBBBBBBBBBBBB</td>\n",
       "      <td>Staten Island</td>\n",
       "      <td>MLK S - SIE W WALKER STREET - RICHMOND AVENUE</td>\n",
       "    </tr>\n",
       "  </tbody>\n",
       "</table>\n",
       "</div>"
      ],
      "text/plain": [
       "   speed           date_time  link_id  \\\n",
       "0  49.08 2019-05-20 19:29:13  4616364   \n",
       "1  34.79 2019-05-20 19:29:13  4616220   \n",
       "2   0.00 2019-05-20 19:29:13  4616216   \n",
       "3  52.81 2019-05-20 19:29:13  4616211   \n",
       "4   0.00 2019-05-20 19:29:13  4616210   \n",
       "\n",
       "                                                                                           link_points  \\\n",
       "0  40.73744001,-73.85188001  40.737015,-73.85373001  40.73673,-73.85543001  40.736526,-73.85631001 ...   \n",
       "1  40.6162405,-74.02612 40.61923,-74.02361 40.62362,-74.019831 40.6248406,-74.019061 40.62579,-74.0...   \n",
       "2  40.63089,-74.14569 40.6298,-74.14569 40.62883,-74.14556 40.62805,-74.145451 40.6272105,-74.14546...   \n",
       "3  40.6151706,-74.15738 40.61739,-74.16056 40.6205405,-74.16683 40.6209604,-74.16791 40.6210504,-74...   \n",
       "4  40.63092,-74.14592 40.62975,-74.14593 40.62877,-74.14579 40.6279506,-74.145671 40.62713,-74.1456...   \n",
       "\n",
       "                                                                                   encoded_poly_line  \\\n",
       "0                                                    _pswFfewaMtApJv@rIh@nDlFbXhH`]bJla@|@`FbHz\\fBvG   \n",
       "1                                                         oz{vFffybMuQuNmZsVsFyC}D}AeLmDeO_E{JkCaEg@   \n",
       "2         av~vFpqpcMxE?`EYzCUfD@|CZtDdAnCd@`Cz@rCdAzCzAvDlCzNlNfEfEbChBhD~AjJnBnVzDtA]|@cBD_Bq@qAaBD   \n",
       "3                                                                      ys{vFrzrcM{LzRuRdf@sAvEQv@[lB   \n",
       "4  gv~vF~rpcMhF@bE[bDWbD@vCb@|D~@dCf@`Cv@jCjA~CzAhDfCrDjDfJ~IhDhDxB~AlDlBdEdArDp@jC|Bt@zBCjDeB~DgAzA   \n",
       "\n",
       "     encoded_poly_line_lvls        borough  \\\n",
       "0                BBBBBBBBBB         Queens   \n",
       "1                 BBBBBBBBB       Brooklyn   \n",
       "2   BBBBBBBBBBBBBBBBBBBBBBB  Staten Island   \n",
       "3                    BBBBBB  Staten Island   \n",
       "4  BBBBBBBBBBBBBBBBBBBBBBBB  Staten Island   \n",
       "\n",
       "                                       link_name  \n",
       "0                       LIE W 108TH ST - 84TH ST  \n",
       "1                 GOW N 92ND STREET - 7TH AVENUE  \n",
       "2    SIE E-MLK N RICHMOND AVENUE - WALKER STREET  \n",
       "3           SIE W RICHMOND AVENUE - SOUTH AVENUE  \n",
       "4  MLK S - SIE W WALKER STREET - RICHMOND AVENUE  "
      ]
     },
     "execution_count": 78,
     "metadata": {},
     "output_type": "execute_result"
    }
   ],
   "source": [
    "data.head()"
   ]
  },
  {
   "cell_type": "code",
   "execution_count": 79,
   "metadata": {},
   "outputs": [
    {
     "data": {
      "text/plain": [
       "'40.73744001,-73.85188001  40.737015,-73.85373001  40.73673,-73.85543001  40.736526,-73.85631001  40.735335,-73.86033  40.73384,-73.86514001  40.732064,-73.87065001  40.731755,-73.87178  40.730294,-73.87656001  40.72977,-73.87796'"
      ]
     },
     "execution_count": 79,
     "metadata": {},
     "output_type": "execute_result"
    }
   ],
   "source": [
    "data.iloc[0,3]"
   ]
  },
  {
   "cell_type": "code",
   "execution_count": 80,
   "metadata": {},
   "outputs": [
    {
     "data": {
      "text/plain": [
       "Index(['speed', 'date_time', 'link_id', 'link_points', 'encoded_poly_line',\n",
       "       'encoded_poly_line_lvls', 'borough', 'link_name'],\n",
       "      dtype='object')"
      ]
     },
     "execution_count": 80,
     "metadata": {},
     "output_type": "execute_result"
    }
   ],
   "source": [
    "data.columns"
   ]
  },
  {
   "cell_type": "code",
   "execution_count": 82,
   "metadata": {},
   "outputs": [],
   "source": [
    "### to reduce size further for modeling lets delete all the link info. This needs to be cleaned anyways, can be added back later via link id.\n",
    "drop_link_info = ['link_points', 'encoded_poly_line', 'encoded_poly_line_lvls', 'link_name']\n",
    "data.drop(columns=drop_link_info, axis=1, inplace=True)"
   ]
  },
  {
   "cell_type": "code",
   "execution_count": 83,
   "metadata": {},
   "outputs": [
    {
     "data": {
      "text/html": [
       "<div>\n",
       "<style scoped>\n",
       "    .dataframe tbody tr th:only-of-type {\n",
       "        vertical-align: middle;\n",
       "    }\n",
       "\n",
       "    .dataframe tbody tr th {\n",
       "        vertical-align: top;\n",
       "    }\n",
       "\n",
       "    .dataframe thead th {\n",
       "        text-align: right;\n",
       "    }\n",
       "</style>\n",
       "<table border=\"1\" class=\"dataframe\">\n",
       "  <thead>\n",
       "    <tr style=\"text-align: right;\">\n",
       "      <th></th>\n",
       "      <th>speed</th>\n",
       "      <th>date_time</th>\n",
       "      <th>link_id</th>\n",
       "      <th>borough</th>\n",
       "    </tr>\n",
       "  </thead>\n",
       "  <tbody>\n",
       "    <tr>\n",
       "      <th>0</th>\n",
       "      <td>49.08</td>\n",
       "      <td>2019-05-20 19:29:13</td>\n",
       "      <td>4616364</td>\n",
       "      <td>Queens</td>\n",
       "    </tr>\n",
       "    <tr>\n",
       "      <th>1</th>\n",
       "      <td>34.79</td>\n",
       "      <td>2019-05-20 19:29:13</td>\n",
       "      <td>4616220</td>\n",
       "      <td>Brooklyn</td>\n",
       "    </tr>\n",
       "    <tr>\n",
       "      <th>2</th>\n",
       "      <td>0.00</td>\n",
       "      <td>2019-05-20 19:29:13</td>\n",
       "      <td>4616216</td>\n",
       "      <td>Staten Island</td>\n",
       "    </tr>\n",
       "    <tr>\n",
       "      <th>3</th>\n",
       "      <td>52.81</td>\n",
       "      <td>2019-05-20 19:29:13</td>\n",
       "      <td>4616211</td>\n",
       "      <td>Staten Island</td>\n",
       "    </tr>\n",
       "    <tr>\n",
       "      <th>4</th>\n",
       "      <td>0.00</td>\n",
       "      <td>2019-05-20 19:29:13</td>\n",
       "      <td>4616210</td>\n",
       "      <td>Staten Island</td>\n",
       "    </tr>\n",
       "  </tbody>\n",
       "</table>\n",
       "</div>"
      ],
      "text/plain": [
       "   speed           date_time  link_id        borough\n",
       "0  49.08 2019-05-20 19:29:13  4616364         Queens\n",
       "1  34.79 2019-05-20 19:29:13  4616220       Brooklyn\n",
       "2   0.00 2019-05-20 19:29:13  4616216  Staten Island\n",
       "3  52.81 2019-05-20 19:29:13  4616211  Staten Island\n",
       "4   0.00 2019-05-20 19:29:13  4616210  Staten Island"
      ]
     },
     "execution_count": 83,
     "metadata": {},
     "output_type": "execute_result"
    }
   ],
   "source": [
    "data.head()"
   ]
  },
  {
   "cell_type": "code",
   "execution_count": 84,
   "metadata": {},
   "outputs": [],
   "source": [
    "### check size of this dataframe\n",
    "data.to_csv('./data_test/check-size-2.csv', index=False) ### still 453.2 MB ### note: wayyyy smaller after all GPS info was dropped!"
   ]
  },
  {
   "cell_type": "code",
   "execution_count": 58,
   "metadata": {},
   "outputs": [],
   "source": [
    "### check if pickle helps?\n",
    "data.to_pickle('./pickles/check_size.pickle')  ### 59.9 MB!!"
   ]
  },
  {
   "cell_type": "code",
   "execution_count": 59,
   "metadata": {},
   "outputs": [
    {
     "data": {
      "text/html": [
       "<div>\n",
       "<style scoped>\n",
       "    .dataframe tbody tr th:only-of-type {\n",
       "        vertical-align: middle;\n",
       "    }\n",
       "\n",
       "    .dataframe tbody tr th {\n",
       "        vertical-align: top;\n",
       "    }\n",
       "\n",
       "    .dataframe thead th {\n",
       "        text-align: right;\n",
       "    }\n",
       "</style>\n",
       "<table border=\"1\" class=\"dataframe\">\n",
       "  <thead>\n",
       "    <tr style=\"text-align: right;\">\n",
       "      <th></th>\n",
       "      <th>speed</th>\n",
       "      <th>date_time</th>\n",
       "      <th>link_id</th>\n",
       "      <th>link_points</th>\n",
       "      <th>encoded_poly_line</th>\n",
       "      <th>encoded_poly_line_lvls</th>\n",
       "      <th>borough</th>\n",
       "      <th>link_name</th>\n",
       "    </tr>\n",
       "  </thead>\n",
       "  <tbody>\n",
       "    <tr>\n",
       "      <th>0</th>\n",
       "      <td>49.08</td>\n",
       "      <td>2019-05-20 19:29:13</td>\n",
       "      <td>4616364</td>\n",
       "      <td>40.73744001,-73.85188001  40.737015,-73.85373001  40.73673,-73.85543001  40.736526,-73.85631001 ...</td>\n",
       "      <td>_pswFfewaMtApJv@rIh@nDlFbXhH`]bJla@|@`FbHz\\fBvG</td>\n",
       "      <td>BBBBBBBBBB</td>\n",
       "      <td>Queens</td>\n",
       "      <td>LIE W 108TH ST - 84TH ST</td>\n",
       "    </tr>\n",
       "    <tr>\n",
       "      <th>1</th>\n",
       "      <td>34.79</td>\n",
       "      <td>2019-05-20 19:29:13</td>\n",
       "      <td>4616220</td>\n",
       "      <td>40.6162405,-74.02612 40.61923,-74.02361 40.62362,-74.019831 40.6248406,-74.019061 40.62579,-74.0...</td>\n",
       "      <td>oz{vFffybMuQuNmZsVsFyC}D}AeLmDeO_E{JkCaEg@</td>\n",
       "      <td>BBBBBBBBB</td>\n",
       "      <td>Brooklyn</td>\n",
       "      <td>GOW N 92ND STREET - 7TH AVENUE</td>\n",
       "    </tr>\n",
       "    <tr>\n",
       "      <th>2</th>\n",
       "      <td>0.00</td>\n",
       "      <td>2019-05-20 19:29:13</td>\n",
       "      <td>4616216</td>\n",
       "      <td>40.63089,-74.14569 40.6298,-74.14569 40.62883,-74.14556 40.62805,-74.145451 40.6272105,-74.14546...</td>\n",
       "      <td>av~vFpqpcMxE?`EYzCUfD@|CZtDdAnCd@`Cz@rCdAzCzAvDlCzNlNfEfEbChBhD~AjJnBnVzDtA]|@cBD_Bq@qAaBD</td>\n",
       "      <td>BBBBBBBBBBBBBBBBBBBBBBB</td>\n",
       "      <td>Staten Island</td>\n",
       "      <td>SIE E-MLK N RICHMOND AVENUE - WALKER STREET</td>\n",
       "    </tr>\n",
       "    <tr>\n",
       "      <th>3</th>\n",
       "      <td>52.81</td>\n",
       "      <td>2019-05-20 19:29:13</td>\n",
       "      <td>4616211</td>\n",
       "      <td>40.6151706,-74.15738 40.61739,-74.16056 40.6205405,-74.16683 40.6209604,-74.16791 40.6210504,-74...</td>\n",
       "      <td>ys{vFrzrcM{LzRuRdf@sAvEQv@[lB</td>\n",
       "      <td>BBBBBB</td>\n",
       "      <td>Staten Island</td>\n",
       "      <td>SIE W RICHMOND AVENUE - SOUTH AVENUE</td>\n",
       "    </tr>\n",
       "    <tr>\n",
       "      <th>4</th>\n",
       "      <td>0.00</td>\n",
       "      <td>2019-05-20 19:29:13</td>\n",
       "      <td>4616210</td>\n",
       "      <td>40.63092,-74.14592 40.62975,-74.14593 40.62877,-74.14579 40.6279506,-74.145671 40.62713,-74.1456...</td>\n",
       "      <td>gv~vF~rpcMhF@bE[bDWbD@vCb@|D~@dCf@`Cv@jCjA~CzAhDfCrDjDfJ~IhDhDxB~AlDlBdEdArDp@jC|Bt@zBCjDeB~DgAzA</td>\n",
       "      <td>BBBBBBBBBBBBBBBBBBBBBBBB</td>\n",
       "      <td>Staten Island</td>\n",
       "      <td>MLK S - SIE W WALKER STREET - RICHMOND AVENUE</td>\n",
       "    </tr>\n",
       "  </tbody>\n",
       "</table>\n",
       "</div>"
      ],
      "text/plain": [
       "   speed           date_time  link_id  \\\n",
       "0  49.08 2019-05-20 19:29:13  4616364   \n",
       "1  34.79 2019-05-20 19:29:13  4616220   \n",
       "2   0.00 2019-05-20 19:29:13  4616216   \n",
       "3  52.81 2019-05-20 19:29:13  4616211   \n",
       "4   0.00 2019-05-20 19:29:13  4616210   \n",
       "\n",
       "                                                                                           link_points  \\\n",
       "0  40.73744001,-73.85188001  40.737015,-73.85373001  40.73673,-73.85543001  40.736526,-73.85631001 ...   \n",
       "1  40.6162405,-74.02612 40.61923,-74.02361 40.62362,-74.019831 40.6248406,-74.019061 40.62579,-74.0...   \n",
       "2  40.63089,-74.14569 40.6298,-74.14569 40.62883,-74.14556 40.62805,-74.145451 40.6272105,-74.14546...   \n",
       "3  40.6151706,-74.15738 40.61739,-74.16056 40.6205405,-74.16683 40.6209604,-74.16791 40.6210504,-74...   \n",
       "4  40.63092,-74.14592 40.62975,-74.14593 40.62877,-74.14579 40.6279506,-74.145671 40.62713,-74.1456...   \n",
       "\n",
       "                                                                                   encoded_poly_line  \\\n",
       "0                                                    _pswFfewaMtApJv@rIh@nDlFbXhH`]bJla@|@`FbHz\\fBvG   \n",
       "1                                                         oz{vFffybMuQuNmZsVsFyC}D}AeLmDeO_E{JkCaEg@   \n",
       "2         av~vFpqpcMxE?`EYzCUfD@|CZtDdAnCd@`Cz@rCdAzCzAvDlCzNlNfEfEbChBhD~AjJnBnVzDtA]|@cBD_Bq@qAaBD   \n",
       "3                                                                      ys{vFrzrcM{LzRuRdf@sAvEQv@[lB   \n",
       "4  gv~vF~rpcMhF@bE[bDWbD@vCb@|D~@dCf@`Cv@jCjA~CzAhDfCrDjDfJ~IhDhDxB~AlDlBdEdArDp@jC|Bt@zBCjDeB~DgAzA   \n",
       "\n",
       "     encoded_poly_line_lvls        borough  \\\n",
       "0                BBBBBBBBBB         Queens   \n",
       "1                 BBBBBBBBB       Brooklyn   \n",
       "2   BBBBBBBBBBBBBBBBBBBBBBB  Staten Island   \n",
       "3                    BBBBBB  Staten Island   \n",
       "4  BBBBBBBBBBBBBBBBBBBBBBBB  Staten Island   \n",
       "\n",
       "                                       link_name  \n",
       "0                       LIE W 108TH ST - 84TH ST  \n",
       "1                 GOW N 92ND STREET - 7TH AVENUE  \n",
       "2    SIE E-MLK N RICHMOND AVENUE - WALKER STREET  \n",
       "3           SIE W RICHMOND AVENUE - SOUTH AVENUE  \n",
       "4  MLK S - SIE W WALKER STREET - RICHMOND AVENUE  "
      ]
     },
     "execution_count": 59,
     "metadata": {},
     "output_type": "execute_result"
    }
   ],
   "source": [
    "### load pickle\n",
    "\n",
    "df = pd.read_pickle('./pickles/check_size.pickle')\n",
    "df.head()"
   ]
  },
  {
   "cell_type": "code",
   "execution_count": 60,
   "metadata": {},
   "outputs": [
    {
     "data": {
      "text/plain": [
       "(1150196, 8)"
      ]
     },
     "execution_count": 60,
     "metadata": {},
     "output_type": "execute_result"
    }
   ],
   "source": [
    "df.shape"
   ]
  },
  {
   "cell_type": "code",
   "execution_count": null,
   "metadata": {},
   "outputs": [],
   "source": []
  },
  {
   "cell_type": "code",
   "execution_count": null,
   "metadata": {},
   "outputs": [],
   "source": []
  },
  {
   "cell_type": "code",
   "execution_count": null,
   "metadata": {},
   "outputs": [],
   "source": []
  },
  {
   "cell_type": "code",
   "execution_count": null,
   "metadata": {},
   "outputs": [],
   "source": []
  },
  {
   "cell_type": "code",
   "execution_count": null,
   "metadata": {},
   "outputs": [],
   "source": []
  },
  {
   "cell_type": "code",
   "execution_count": null,
   "metadata": {},
   "outputs": [],
   "source": [
    "data['BOROUGH'].value_counts()"
   ]
  },
  {
   "cell_type": "code",
   "execution_count": 26,
   "metadata": {},
   "outputs": [],
   "source": [
    "# data['LINK_ID'].value_counts()"
   ]
  },
  {
   "cell_type": "code",
   "execution_count": 27,
   "metadata": {},
   "outputs": [],
   "source": [
    "# data['ID'].value_counts()"
   ]
  },
  {
   "cell_type": "code",
   "execution_count": 28,
   "metadata": {},
   "outputs": [
    {
     "data": {
      "text/plain": [
       "NYC_DOT_LIC                 895025\n",
       "MTA Bridges & Tunnels        76588\n",
       "Verrazano-Narrows-Bridge     51042\n",
       "NYC-DOT-Region 10            51042\n",
       "PA-GWBridge                  42499\n",
       "PA -Lincoln Tunnel           34000\n",
       "Name: OWNER, dtype: int64"
      ]
     },
     "execution_count": 28,
     "metadata": {},
     "output_type": "execute_result"
    }
   ],
   "source": [
    "data['OWNER'].value_counts()"
   ]
  },
  {
   "cell_type": "code",
   "execution_count": null,
   "metadata": {},
   "outputs": [],
   "source": []
  },
  {
   "cell_type": "code",
   "execution_count": null,
   "metadata": {},
   "outputs": [],
   "source": []
  },
  {
   "cell_type": "code",
   "execution_count": null,
   "metadata": {},
   "outputs": [],
   "source": []
  },
  {
   "cell_type": "markdown",
   "metadata": {},
   "source": [
    "### Make a data set for manhattan only"
   ]
  },
  {
   "cell_type": "code",
   "execution_count": 23,
   "metadata": {},
   "outputs": [],
   "source": [
    "data_man = data[data['BOROUGH']== 'Manhattan']\n",
    "data_man = data_sm.drop(columns=['ENCODED_POLY_LINE', ])\n",
    "\n",
    "# data_man = pd.to_csv('./data/speed_data-manhattan.csv')"
   ]
  },
  {
   "cell_type": "code",
   "execution_count": 14,
   "metadata": {},
   "outputs": [],
   "source": []
  },
  {
   "cell_type": "code",
   "execution_count": 13,
   "metadata": {},
   "outputs": [],
   "source": []
  },
  {
   "cell_type": "raw",
   "metadata": {},
   "source": []
  },
  {
   "cell_type": "markdown",
   "metadata": {},
   "source": [
    "## Multiindex_data <a class=\"anchor\" id=\"topic-1\"></a>\n",
    "<hr/>"
   ]
  },
  {
   "cell_type": "code",
   "execution_count": 85,
   "metadata": {},
   "outputs": [],
   "source": [
    "### read in data\n",
    "mdata = pd.read_csv('../data_large/multiindex_data.csv')"
   ]
  },
  {
   "cell_type": "code",
   "execution_count": 86,
   "metadata": {},
   "outputs": [
    {
     "data": {
      "text/html": [
       "<div>\n",
       "<style scoped>\n",
       "    .dataframe tbody tr th:only-of-type {\n",
       "        vertical-align: middle;\n",
       "    }\n",
       "\n",
       "    .dataframe tbody tr th {\n",
       "        vertical-align: top;\n",
       "    }\n",
       "\n",
       "    .dataframe thead th {\n",
       "        text-align: right;\n",
       "    }\n",
       "</style>\n",
       "<table border=\"1\" class=\"dataframe\">\n",
       "  <thead>\n",
       "    <tr style=\"text-align: right;\">\n",
       "      <th></th>\n",
       "      <th>LINK_ID</th>\n",
       "      <th>DATA_AS_OF</th>\n",
       "      <th>SPEED</th>\n",
       "    </tr>\n",
       "  </thead>\n",
       "  <tbody>\n",
       "    <tr>\n",
       "      <th>0</th>\n",
       "      <td>4329472</td>\n",
       "      <td>2019-05-20 19:28:04</td>\n",
       "      <td>13.670000</td>\n",
       "    </tr>\n",
       "    <tr>\n",
       "      <th>1</th>\n",
       "      <td>4329472</td>\n",
       "      <td>2019-05-20 19:23:04</td>\n",
       "      <td>13.670000</td>\n",
       "    </tr>\n",
       "    <tr>\n",
       "      <th>2</th>\n",
       "      <td>4329472</td>\n",
       "      <td>2019-05-20 19:18:04</td>\n",
       "      <td>13.876667</td>\n",
       "    </tr>\n",
       "    <tr>\n",
       "      <th>3</th>\n",
       "      <td>4329472</td>\n",
       "      <td>2019-05-20 19:13:04</td>\n",
       "      <td>14.290000</td>\n",
       "    </tr>\n",
       "    <tr>\n",
       "      <th>4</th>\n",
       "      <td>4329472</td>\n",
       "      <td>2019-05-20 19:08:03</td>\n",
       "      <td>15.160000</td>\n",
       "    </tr>\n",
       "  </tbody>\n",
       "</table>\n",
       "</div>"
      ],
      "text/plain": [
       "   LINK_ID           DATA_AS_OF      SPEED\n",
       "0  4329472  2019-05-20 19:28:04  13.670000\n",
       "1  4329472  2019-05-20 19:23:04  13.670000\n",
       "2  4329472  2019-05-20 19:18:04  13.876667\n",
       "3  4329472  2019-05-20 19:13:04  14.290000\n",
       "4  4329472  2019-05-20 19:08:03  15.160000"
      ]
     },
     "execution_count": 86,
     "metadata": {},
     "output_type": "execute_result"
    }
   ],
   "source": [
    "mdata.head()"
   ]
  },
  {
   "cell_type": "code",
   "execution_count": 87,
   "metadata": {},
   "outputs": [
    {
     "data": {
      "text/plain": [
       "(1150196, 3)"
      ]
     },
     "execution_count": 87,
     "metadata": {},
     "output_type": "execute_result"
    }
   ],
   "source": [
    "mdata.shape"
   ]
  },
  {
   "cell_type": "markdown",
   "metadata": {},
   "source": [
    "## Topic 2 <a class=\"anchor\" id=\"topic-2\"></a>\n",
    "<hr/>"
   ]
  },
  {
   "cell_type": "code",
   "execution_count": 88,
   "metadata": {},
   "outputs": [
    {
     "name": "stderr",
     "output_type": "stream",
     "text": [
      "/opt/anaconda3/lib/python3.8/site-packages/IPython/core/interactiveshell.py:3145: DtypeWarning: Columns (3) have mixed types.Specify dtype option on import or set low_memory=False.\n",
      "  has_raised = await self.run_ast_nodes(code_ast.body, cell_name,\n"
     ]
    }
   ],
   "source": [
    "### read in data\n",
    "cdata = pd.read_csv('../data_large/collisions.csv')"
   ]
  },
  {
   "cell_type": "code",
   "execution_count": 94,
   "metadata": {},
   "outputs": [
    {
     "data": {
      "text/plain": [
       "(1720022, 29)"
      ]
     },
     "execution_count": 94,
     "metadata": {},
     "output_type": "execute_result"
    }
   ],
   "source": [
    "cdata.shape"
   ]
  },
  {
   "cell_type": "code",
   "execution_count": 103,
   "metadata": {},
   "outputs": [
    {
     "data": {
      "text/html": [
       "<div>\n",
       "<style scoped>\n",
       "    .dataframe tbody tr th:only-of-type {\n",
       "        vertical-align: middle;\n",
       "    }\n",
       "\n",
       "    .dataframe tbody tr th {\n",
       "        vertical-align: top;\n",
       "    }\n",
       "\n",
       "    .dataframe thead th {\n",
       "        text-align: right;\n",
       "    }\n",
       "</style>\n",
       "<table border=\"1\" class=\"dataframe\">\n",
       "  <thead>\n",
       "    <tr style=\"text-align: right;\">\n",
       "      <th></th>\n",
       "      <th>CRASH DATE</th>\n",
       "      <th>CRASH TIME</th>\n",
       "      <th>BOROUGH</th>\n",
       "      <th>ZIP CODE</th>\n",
       "      <th>LATITUDE</th>\n",
       "      <th>LONGITUDE</th>\n",
       "      <th>LOCATION</th>\n",
       "      <th>ON STREET NAME</th>\n",
       "      <th>CROSS STREET NAME</th>\n",
       "      <th>OFF STREET NAME</th>\n",
       "      <th>NUMBER OF PERSONS INJURED</th>\n",
       "      <th>NUMBER OF PERSONS KILLED</th>\n",
       "      <th>NUMBER OF PEDESTRIANS INJURED</th>\n",
       "      <th>NUMBER OF PEDESTRIANS KILLED</th>\n",
       "      <th>NUMBER OF CYCLIST INJURED</th>\n",
       "      <th>NUMBER OF CYCLIST KILLED</th>\n",
       "      <th>NUMBER OF MOTORIST INJURED</th>\n",
       "      <th>NUMBER OF MOTORIST KILLED</th>\n",
       "      <th>CONTRIBUTING FACTOR VEHICLE 1</th>\n",
       "      <th>CONTRIBUTING FACTOR VEHICLE 2</th>\n",
       "      <th>CONTRIBUTING FACTOR VEHICLE 3</th>\n",
       "      <th>CONTRIBUTING FACTOR VEHICLE 4</th>\n",
       "      <th>CONTRIBUTING FACTOR VEHICLE 5</th>\n",
       "      <th>COLLISION_ID</th>\n",
       "      <th>VEHICLE TYPE CODE 1</th>\n",
       "      <th>VEHICLE TYPE CODE 2</th>\n",
       "      <th>VEHICLE TYPE CODE 3</th>\n",
       "      <th>VEHICLE TYPE CODE 4</th>\n",
       "      <th>VEHICLE TYPE CODE 5</th>\n",
       "    </tr>\n",
       "  </thead>\n",
       "  <tbody>\n",
       "    <tr>\n",
       "      <th>0</th>\n",
       "      <td>10/09/2020</td>\n",
       "      <td>10:12</td>\n",
       "      <td>NaN</td>\n",
       "      <td>NaN</td>\n",
       "      <td>40.683933</td>\n",
       "      <td>-73.871190</td>\n",
       "      <td>(40.683933, -73.87119)</td>\n",
       "      <td>HEMLOCK STREET</td>\n",
       "      <td>NaN</td>\n",
       "      <td>NaN</td>\n",
       "      <td>1.0</td>\n",
       "      <td>0.0</td>\n",
       "      <td>1</td>\n",
       "      <td>0</td>\n",
       "      <td>0</td>\n",
       "      <td>0</td>\n",
       "      <td>0</td>\n",
       "      <td>0</td>\n",
       "      <td>NaN</td>\n",
       "      <td>NaN</td>\n",
       "      <td>NaN</td>\n",
       "      <td>NaN</td>\n",
       "      <td>NaN</td>\n",
       "      <td>4356254</td>\n",
       "      <td>NaN</td>\n",
       "      <td>NaN</td>\n",
       "      <td>NaN</td>\n",
       "      <td>NaN</td>\n",
       "      <td>NaN</td>\n",
       "    </tr>\n",
       "    <tr>\n",
       "      <th>1</th>\n",
       "      <td>10/09/2020</td>\n",
       "      <td>15:40</td>\n",
       "      <td>NaN</td>\n",
       "      <td>NaN</td>\n",
       "      <td>NaN</td>\n",
       "      <td>NaN</td>\n",
       "      <td>NaN</td>\n",
       "      <td>HUTCHINSON RIVER PARKWAY</td>\n",
       "      <td>NaN</td>\n",
       "      <td>NaN</td>\n",
       "      <td>0.0</td>\n",
       "      <td>0.0</td>\n",
       "      <td>0</td>\n",
       "      <td>0</td>\n",
       "      <td>0</td>\n",
       "      <td>0</td>\n",
       "      <td>0</td>\n",
       "      <td>0</td>\n",
       "      <td>Unspecified</td>\n",
       "      <td>NaN</td>\n",
       "      <td>NaN</td>\n",
       "      <td>NaN</td>\n",
       "      <td>NaN</td>\n",
       "      <td>4356784</td>\n",
       "      <td>Sedan</td>\n",
       "      <td>NaN</td>\n",
       "      <td>NaN</td>\n",
       "      <td>NaN</td>\n",
       "      <td>NaN</td>\n",
       "    </tr>\n",
       "    <tr>\n",
       "      <th>2</th>\n",
       "      <td>10/09/2020</td>\n",
       "      <td>2:00</td>\n",
       "      <td>NaN</td>\n",
       "      <td>NaN</td>\n",
       "      <td>NaN</td>\n",
       "      <td>NaN</td>\n",
       "      <td>NaN</td>\n",
       "      <td>STATEN ISLAND EXPRESSWAY</td>\n",
       "      <td>NaN</td>\n",
       "      <td>NaN</td>\n",
       "      <td>0.0</td>\n",
       "      <td>0.0</td>\n",
       "      <td>0</td>\n",
       "      <td>0</td>\n",
       "      <td>0</td>\n",
       "      <td>0</td>\n",
       "      <td>0</td>\n",
       "      <td>0</td>\n",
       "      <td>Driver Inattention/Distraction</td>\n",
       "      <td>Unspecified</td>\n",
       "      <td>NaN</td>\n",
       "      <td>NaN</td>\n",
       "      <td>NaN</td>\n",
       "      <td>4355987</td>\n",
       "      <td>Station Wagon/Sport Utility Vehicle</td>\n",
       "      <td>NaN</td>\n",
       "      <td>NaN</td>\n",
       "      <td>NaN</td>\n",
       "      <td>NaN</td>\n",
       "    </tr>\n",
       "    <tr>\n",
       "      <th>3</th>\n",
       "      <td>10/08/2020</td>\n",
       "      <td>10:46</td>\n",
       "      <td>NaN</td>\n",
       "      <td>NaN</td>\n",
       "      <td>40.827210</td>\n",
       "      <td>-73.920700</td>\n",
       "      <td>(40.82721, -73.9207)</td>\n",
       "      <td>EAST 162 STREET</td>\n",
       "      <td>NaN</td>\n",
       "      <td>NaN</td>\n",
       "      <td>0.0</td>\n",
       "      <td>0.0</td>\n",
       "      <td>0</td>\n",
       "      <td>0</td>\n",
       "      <td>0</td>\n",
       "      <td>0</td>\n",
       "      <td>0</td>\n",
       "      <td>0</td>\n",
       "      <td>Failure to Yield Right-of-Way</td>\n",
       "      <td>Unspecified</td>\n",
       "      <td>NaN</td>\n",
       "      <td>NaN</td>\n",
       "      <td>NaN</td>\n",
       "      <td>4355967</td>\n",
       "      <td>Sedan</td>\n",
       "      <td>AMBU</td>\n",
       "      <td>NaN</td>\n",
       "      <td>NaN</td>\n",
       "      <td>NaN</td>\n",
       "    </tr>\n",
       "    <tr>\n",
       "      <th>4</th>\n",
       "      <td>10/08/2020</td>\n",
       "      <td>19:24</td>\n",
       "      <td>NaN</td>\n",
       "      <td>NaN</td>\n",
       "      <td>40.799310</td>\n",
       "      <td>-73.943245</td>\n",
       "      <td>(40.79931, -73.943245)</td>\n",
       "      <td>PARK AVENUE</td>\n",
       "      <td>NaN</td>\n",
       "      <td>NaN</td>\n",
       "      <td>1.0</td>\n",
       "      <td>0.0</td>\n",
       "      <td>1</td>\n",
       "      <td>0</td>\n",
       "      <td>0</td>\n",
       "      <td>0</td>\n",
       "      <td>0</td>\n",
       "      <td>0</td>\n",
       "      <td>Driver Inexperience</td>\n",
       "      <td>NaN</td>\n",
       "      <td>NaN</td>\n",
       "      <td>NaN</td>\n",
       "      <td>NaN</td>\n",
       "      <td>4356130</td>\n",
       "      <td>Sedan</td>\n",
       "      <td>NaN</td>\n",
       "      <td>NaN</td>\n",
       "      <td>NaN</td>\n",
       "      <td>NaN</td>\n",
       "    </tr>\n",
       "  </tbody>\n",
       "</table>\n",
       "</div>"
      ],
      "text/plain": [
       "   CRASH DATE CRASH TIME BOROUGH ZIP CODE   LATITUDE  LONGITUDE  \\\n",
       "0  10/09/2020      10:12     NaN      NaN  40.683933 -73.871190   \n",
       "1  10/09/2020      15:40     NaN      NaN        NaN        NaN   \n",
       "2  10/09/2020       2:00     NaN      NaN        NaN        NaN   \n",
       "3  10/08/2020      10:46     NaN      NaN  40.827210 -73.920700   \n",
       "4  10/08/2020      19:24     NaN      NaN  40.799310 -73.943245   \n",
       "\n",
       "                 LOCATION                    ON STREET NAME CROSS STREET NAME  \\\n",
       "0  (40.683933, -73.87119)  HEMLOCK STREET                                 NaN   \n",
       "1                     NaN  HUTCHINSON RIVER PARKWAY                       NaN   \n",
       "2                     NaN  STATEN ISLAND EXPRESSWAY                       NaN   \n",
       "3    (40.82721, -73.9207)  EAST 162 STREET                                NaN   \n",
       "4  (40.79931, -73.943245)  PARK AVENUE                                    NaN   \n",
       "\n",
       "  OFF STREET NAME  NUMBER OF PERSONS INJURED  NUMBER OF PERSONS KILLED  \\\n",
       "0             NaN                        1.0                       0.0   \n",
       "1             NaN                        0.0                       0.0   \n",
       "2             NaN                        0.0                       0.0   \n",
       "3             NaN                        0.0                       0.0   \n",
       "4             NaN                        1.0                       0.0   \n",
       "\n",
       "   NUMBER OF PEDESTRIANS INJURED  NUMBER OF PEDESTRIANS KILLED  \\\n",
       "0                              1                             0   \n",
       "1                              0                             0   \n",
       "2                              0                             0   \n",
       "3                              0                             0   \n",
       "4                              1                             0   \n",
       "\n",
       "   NUMBER OF CYCLIST INJURED  NUMBER OF CYCLIST KILLED  \\\n",
       "0                          0                         0   \n",
       "1                          0                         0   \n",
       "2                          0                         0   \n",
       "3                          0                         0   \n",
       "4                          0                         0   \n",
       "\n",
       "   NUMBER OF MOTORIST INJURED  NUMBER OF MOTORIST KILLED  \\\n",
       "0                           0                          0   \n",
       "1                           0                          0   \n",
       "2                           0                          0   \n",
       "3                           0                          0   \n",
       "4                           0                          0   \n",
       "\n",
       "    CONTRIBUTING FACTOR VEHICLE 1 CONTRIBUTING FACTOR VEHICLE 2  \\\n",
       "0                             NaN                           NaN   \n",
       "1                     Unspecified                           NaN   \n",
       "2  Driver Inattention/Distraction                   Unspecified   \n",
       "3   Failure to Yield Right-of-Way                   Unspecified   \n",
       "4             Driver Inexperience                           NaN   \n",
       "\n",
       "  CONTRIBUTING FACTOR VEHICLE 3 CONTRIBUTING FACTOR VEHICLE 4  \\\n",
       "0                           NaN                           NaN   \n",
       "1                           NaN                           NaN   \n",
       "2                           NaN                           NaN   \n",
       "3                           NaN                           NaN   \n",
       "4                           NaN                           NaN   \n",
       "\n",
       "  CONTRIBUTING FACTOR VEHICLE 5  COLLISION_ID  \\\n",
       "0                           NaN       4356254   \n",
       "1                           NaN       4356784   \n",
       "2                           NaN       4355987   \n",
       "3                           NaN       4355967   \n",
       "4                           NaN       4356130   \n",
       "\n",
       "                   VEHICLE TYPE CODE 1 VEHICLE TYPE CODE 2  \\\n",
       "0                                  NaN                 NaN   \n",
       "1                                Sedan                 NaN   \n",
       "2  Station Wagon/Sport Utility Vehicle                 NaN   \n",
       "3                                Sedan                AMBU   \n",
       "4                                Sedan                 NaN   \n",
       "\n",
       "  VEHICLE TYPE CODE 3 VEHICLE TYPE CODE 4 VEHICLE TYPE CODE 5  \n",
       "0                 NaN                 NaN                 NaN  \n",
       "1                 NaN                 NaN                 NaN  \n",
       "2                 NaN                 NaN                 NaN  \n",
       "3                 NaN                 NaN                 NaN  \n",
       "4                 NaN                 NaN                 NaN  "
      ]
     },
     "execution_count": 103,
     "metadata": {},
     "output_type": "execute_result"
    }
   ],
   "source": [
    "cdata.head()"
   ]
  },
  {
   "cell_type": "code",
   "execution_count": 106,
   "metadata": {},
   "outputs": [
    {
     "data": {
      "text/plain": [
       "CRASH DATE                             0\n",
       "CRASH TIME                             0\n",
       "BOROUGH                           526355\n",
       "ZIP CODE                          526564\n",
       "LATITUDE                          205510\n",
       "LONGITUDE                         205510\n",
       "LOCATION                          205510\n",
       "ON STREET NAME                    343816\n",
       "CROSS STREET NAME                 596739\n",
       "OFF STREET NAME                  1468574\n",
       "NUMBER OF PERSONS INJURED             17\n",
       "NUMBER OF PERSONS KILLED              31\n",
       "NUMBER OF PEDESTRIANS INJURED          0\n",
       "NUMBER OF PEDESTRIANS KILLED           0\n",
       "NUMBER OF CYCLIST INJURED              0\n",
       "NUMBER OF CYCLIST KILLED               0\n",
       "NUMBER OF MOTORIST INJURED             0\n",
       "NUMBER OF MOTORIST KILLED              0\n",
       "CONTRIBUTING FACTOR VEHICLE 1       4733\n",
       "CONTRIBUTING FACTOR VEHICLE 2     239060\n",
       "CONTRIBUTING FACTOR VEHICLE 3    1606331\n",
       "CONTRIBUTING FACTOR VEHICLE 4    1695836\n",
       "CONTRIBUTING FACTOR VEHICLE 5    1713759\n",
       "COLLISION_ID                           0\n",
       "VEHICLE TYPE CODE 1                 8773\n",
       "VEHICLE TYPE CODE 2               276682\n",
       "VEHICLE TYPE CODE 3              1609258\n",
       "VEHICLE TYPE CODE 4              1696496\n",
       "VEHICLE TYPE CODE 5              1713927\n",
       "dtype: int64"
      ]
     },
     "execution_count": 106,
     "metadata": {},
     "output_type": "execute_result"
    }
   ],
   "source": [
    "cdata.isnull().sum()"
   ]
  },
  {
   "cell_type": "code",
   "execution_count": 107,
   "metadata": {},
   "outputs": [
    {
     "data": {
      "text/plain": [
       "Index(['CRASH DATE', 'CRASH TIME', 'BOROUGH', 'ZIP CODE', 'LATITUDE',\n",
       "       'LONGITUDE', 'LOCATION', 'ON STREET NAME', 'CROSS STREET NAME',\n",
       "       'OFF STREET NAME', 'NUMBER OF PERSONS INJURED',\n",
       "       'NUMBER OF PERSONS KILLED', 'NUMBER OF PEDESTRIANS INJURED',\n",
       "       'NUMBER OF PEDESTRIANS KILLED', 'NUMBER OF CYCLIST INJURED',\n",
       "       'NUMBER OF CYCLIST KILLED', 'NUMBER OF MOTORIST INJURED',\n",
       "       'NUMBER OF MOTORIST KILLED', 'CONTRIBUTING FACTOR VEHICLE 1',\n",
       "       'CONTRIBUTING FACTOR VEHICLE 2', 'CONTRIBUTING FACTOR VEHICLE 3',\n",
       "       'CONTRIBUTING FACTOR VEHICLE 4', 'CONTRIBUTING FACTOR VEHICLE 5',\n",
       "       'COLLISION_ID', 'VEHICLE TYPE CODE 1', 'VEHICLE TYPE CODE 2',\n",
       "       'VEHICLE TYPE CODE 3', 'VEHICLE TYPE CODE 4', 'VEHICLE TYPE CODE 5'],\n",
       "      dtype='object')"
      ]
     },
     "execution_count": 107,
     "metadata": {},
     "output_type": "execute_result"
    }
   ],
   "source": [
    "cdata.columns"
   ]
  },
  {
   "cell_type": "code",
   "execution_count": 108,
   "metadata": {},
   "outputs": [],
   "source": [
    "drop_cols = ['OFF STREET NAME', 'CONTRIBUTING FACTOR VEHICLE 3',\n",
    "       'CONTRIBUTING FACTOR VEHICLE 4', 'CONTRIBUTING FACTOR VEHICLE 5',\n",
    "       'VEHICLE TYPE CODE 3', 'VEHICLE TYPE CODE 4', 'VEHICLE TYPE CODE 5']\n",
    "cdata.drop(columns=drop_cols, inplace=True)"
   ]
  },
  {
   "cell_type": "code",
   "execution_count": 109,
   "metadata": {},
   "outputs": [
    {
     "data": {
      "text/html": [
       "<div>\n",
       "<style scoped>\n",
       "    .dataframe tbody tr th:only-of-type {\n",
       "        vertical-align: middle;\n",
       "    }\n",
       "\n",
       "    .dataframe tbody tr th {\n",
       "        vertical-align: top;\n",
       "    }\n",
       "\n",
       "    .dataframe thead th {\n",
       "        text-align: right;\n",
       "    }\n",
       "</style>\n",
       "<table border=\"1\" class=\"dataframe\">\n",
       "  <thead>\n",
       "    <tr style=\"text-align: right;\">\n",
       "      <th></th>\n",
       "      <th>CRASH DATE</th>\n",
       "      <th>CRASH TIME</th>\n",
       "      <th>BOROUGH</th>\n",
       "      <th>ZIP CODE</th>\n",
       "      <th>LATITUDE</th>\n",
       "      <th>LONGITUDE</th>\n",
       "      <th>LOCATION</th>\n",
       "      <th>ON STREET NAME</th>\n",
       "      <th>CROSS STREET NAME</th>\n",
       "      <th>NUMBER OF PERSONS INJURED</th>\n",
       "      <th>NUMBER OF PERSONS KILLED</th>\n",
       "      <th>NUMBER OF PEDESTRIANS INJURED</th>\n",
       "      <th>NUMBER OF PEDESTRIANS KILLED</th>\n",
       "      <th>NUMBER OF CYCLIST INJURED</th>\n",
       "      <th>NUMBER OF CYCLIST KILLED</th>\n",
       "      <th>NUMBER OF MOTORIST INJURED</th>\n",
       "      <th>NUMBER OF MOTORIST KILLED</th>\n",
       "      <th>CONTRIBUTING FACTOR VEHICLE 1</th>\n",
       "      <th>CONTRIBUTING FACTOR VEHICLE 2</th>\n",
       "      <th>COLLISION_ID</th>\n",
       "      <th>VEHICLE TYPE CODE 1</th>\n",
       "      <th>VEHICLE TYPE CODE 2</th>\n",
       "    </tr>\n",
       "  </thead>\n",
       "  <tbody>\n",
       "    <tr>\n",
       "      <th>0</th>\n",
       "      <td>10/09/2020</td>\n",
       "      <td>10:12</td>\n",
       "      <td>NaN</td>\n",
       "      <td>NaN</td>\n",
       "      <td>40.683933</td>\n",
       "      <td>-73.871190</td>\n",
       "      <td>(40.683933, -73.87119)</td>\n",
       "      <td>HEMLOCK STREET</td>\n",
       "      <td>NaN</td>\n",
       "      <td>1.0</td>\n",
       "      <td>0.0</td>\n",
       "      <td>1</td>\n",
       "      <td>0</td>\n",
       "      <td>0</td>\n",
       "      <td>0</td>\n",
       "      <td>0</td>\n",
       "      <td>0</td>\n",
       "      <td>NaN</td>\n",
       "      <td>NaN</td>\n",
       "      <td>4356254</td>\n",
       "      <td>NaN</td>\n",
       "      <td>NaN</td>\n",
       "    </tr>\n",
       "    <tr>\n",
       "      <th>1</th>\n",
       "      <td>10/09/2020</td>\n",
       "      <td>15:40</td>\n",
       "      <td>NaN</td>\n",
       "      <td>NaN</td>\n",
       "      <td>NaN</td>\n",
       "      <td>NaN</td>\n",
       "      <td>NaN</td>\n",
       "      <td>HUTCHINSON RIVER PARKWAY</td>\n",
       "      <td>NaN</td>\n",
       "      <td>0.0</td>\n",
       "      <td>0.0</td>\n",
       "      <td>0</td>\n",
       "      <td>0</td>\n",
       "      <td>0</td>\n",
       "      <td>0</td>\n",
       "      <td>0</td>\n",
       "      <td>0</td>\n",
       "      <td>Unspecified</td>\n",
       "      <td>NaN</td>\n",
       "      <td>4356784</td>\n",
       "      <td>Sedan</td>\n",
       "      <td>NaN</td>\n",
       "    </tr>\n",
       "    <tr>\n",
       "      <th>2</th>\n",
       "      <td>10/09/2020</td>\n",
       "      <td>2:00</td>\n",
       "      <td>NaN</td>\n",
       "      <td>NaN</td>\n",
       "      <td>NaN</td>\n",
       "      <td>NaN</td>\n",
       "      <td>NaN</td>\n",
       "      <td>STATEN ISLAND EXPRESSWAY</td>\n",
       "      <td>NaN</td>\n",
       "      <td>0.0</td>\n",
       "      <td>0.0</td>\n",
       "      <td>0</td>\n",
       "      <td>0</td>\n",
       "      <td>0</td>\n",
       "      <td>0</td>\n",
       "      <td>0</td>\n",
       "      <td>0</td>\n",
       "      <td>Driver Inattention/Distraction</td>\n",
       "      <td>Unspecified</td>\n",
       "      <td>4355987</td>\n",
       "      <td>Station Wagon/Sport Utility Vehicle</td>\n",
       "      <td>NaN</td>\n",
       "    </tr>\n",
       "    <tr>\n",
       "      <th>3</th>\n",
       "      <td>10/08/2020</td>\n",
       "      <td>10:46</td>\n",
       "      <td>NaN</td>\n",
       "      <td>NaN</td>\n",
       "      <td>40.827210</td>\n",
       "      <td>-73.920700</td>\n",
       "      <td>(40.82721, -73.9207)</td>\n",
       "      <td>EAST 162 STREET</td>\n",
       "      <td>NaN</td>\n",
       "      <td>0.0</td>\n",
       "      <td>0.0</td>\n",
       "      <td>0</td>\n",
       "      <td>0</td>\n",
       "      <td>0</td>\n",
       "      <td>0</td>\n",
       "      <td>0</td>\n",
       "      <td>0</td>\n",
       "      <td>Failure to Yield Right-of-Way</td>\n",
       "      <td>Unspecified</td>\n",
       "      <td>4355967</td>\n",
       "      <td>Sedan</td>\n",
       "      <td>AMBU</td>\n",
       "    </tr>\n",
       "    <tr>\n",
       "      <th>4</th>\n",
       "      <td>10/08/2020</td>\n",
       "      <td>19:24</td>\n",
       "      <td>NaN</td>\n",
       "      <td>NaN</td>\n",
       "      <td>40.799310</td>\n",
       "      <td>-73.943245</td>\n",
       "      <td>(40.79931, -73.943245)</td>\n",
       "      <td>PARK AVENUE</td>\n",
       "      <td>NaN</td>\n",
       "      <td>1.0</td>\n",
       "      <td>0.0</td>\n",
       "      <td>1</td>\n",
       "      <td>0</td>\n",
       "      <td>0</td>\n",
       "      <td>0</td>\n",
       "      <td>0</td>\n",
       "      <td>0</td>\n",
       "      <td>Driver Inexperience</td>\n",
       "      <td>NaN</td>\n",
       "      <td>4356130</td>\n",
       "      <td>Sedan</td>\n",
       "      <td>NaN</td>\n",
       "    </tr>\n",
       "  </tbody>\n",
       "</table>\n",
       "</div>"
      ],
      "text/plain": [
       "   CRASH DATE CRASH TIME BOROUGH ZIP CODE   LATITUDE  LONGITUDE  \\\n",
       "0  10/09/2020      10:12     NaN      NaN  40.683933 -73.871190   \n",
       "1  10/09/2020      15:40     NaN      NaN        NaN        NaN   \n",
       "2  10/09/2020       2:00     NaN      NaN        NaN        NaN   \n",
       "3  10/08/2020      10:46     NaN      NaN  40.827210 -73.920700   \n",
       "4  10/08/2020      19:24     NaN      NaN  40.799310 -73.943245   \n",
       "\n",
       "                 LOCATION                    ON STREET NAME CROSS STREET NAME  \\\n",
       "0  (40.683933, -73.87119)  HEMLOCK STREET                                 NaN   \n",
       "1                     NaN  HUTCHINSON RIVER PARKWAY                       NaN   \n",
       "2                     NaN  STATEN ISLAND EXPRESSWAY                       NaN   \n",
       "3    (40.82721, -73.9207)  EAST 162 STREET                                NaN   \n",
       "4  (40.79931, -73.943245)  PARK AVENUE                                    NaN   \n",
       "\n",
       "   NUMBER OF PERSONS INJURED  NUMBER OF PERSONS KILLED  \\\n",
       "0                        1.0                       0.0   \n",
       "1                        0.0                       0.0   \n",
       "2                        0.0                       0.0   \n",
       "3                        0.0                       0.0   \n",
       "4                        1.0                       0.0   \n",
       "\n",
       "   NUMBER OF PEDESTRIANS INJURED  NUMBER OF PEDESTRIANS KILLED  \\\n",
       "0                              1                             0   \n",
       "1                              0                             0   \n",
       "2                              0                             0   \n",
       "3                              0                             0   \n",
       "4                              1                             0   \n",
       "\n",
       "   NUMBER OF CYCLIST INJURED  NUMBER OF CYCLIST KILLED  \\\n",
       "0                          0                         0   \n",
       "1                          0                         0   \n",
       "2                          0                         0   \n",
       "3                          0                         0   \n",
       "4                          0                         0   \n",
       "\n",
       "   NUMBER OF MOTORIST INJURED  NUMBER OF MOTORIST KILLED  \\\n",
       "0                           0                          0   \n",
       "1                           0                          0   \n",
       "2                           0                          0   \n",
       "3                           0                          0   \n",
       "4                           0                          0   \n",
       "\n",
       "    CONTRIBUTING FACTOR VEHICLE 1 CONTRIBUTING FACTOR VEHICLE 2  COLLISION_ID  \\\n",
       "0                             NaN                           NaN       4356254   \n",
       "1                     Unspecified                           NaN       4356784   \n",
       "2  Driver Inattention/Distraction                   Unspecified       4355987   \n",
       "3   Failure to Yield Right-of-Way                   Unspecified       4355967   \n",
       "4             Driver Inexperience                           NaN       4356130   \n",
       "\n",
       "                   VEHICLE TYPE CODE 1 VEHICLE TYPE CODE 2  \n",
       "0                                  NaN                 NaN  \n",
       "1                                Sedan                 NaN  \n",
       "2  Station Wagon/Sport Utility Vehicle                 NaN  \n",
       "3                                Sedan                AMBU  \n",
       "4                                Sedan                 NaN  "
      ]
     },
     "execution_count": 109,
     "metadata": {},
     "output_type": "execute_result"
    }
   ],
   "source": [
    "cdata.head()"
   ]
  },
  {
   "cell_type": "code",
   "execution_count": 110,
   "metadata": {},
   "outputs": [
    {
     "data": {
      "text/plain": [
       "NaN              526355\n",
       "BROOKLYN         373066\n",
       "QUEENS           319451\n",
       "MANHATTAN        280531\n",
       "BRONX            169930\n",
       "STATEN ISLAND     50689\n",
       "Name: BOROUGH, dtype: int64"
      ]
     },
     "execution_count": 110,
     "metadata": {},
     "output_type": "execute_result"
    }
   ],
   "source": [
    "cdata['BOROUGH'].value_counts(dropna=False)"
   ]
  },
  {
   "cell_type": "code",
   "execution_count": 100,
   "metadata": {},
   "outputs": [],
   "source": [
    "# cdata['NUMBER OF PERSONS INJURED'].value_counts()"
   ]
  },
  {
   "cell_type": "code",
   "execution_count": 101,
   "metadata": {},
   "outputs": [
    {
     "data": {
      "text/plain": [
       "0.0    1717963\n",
       "1.0       1968\n",
       "2.0         47\n",
       "3.0          8\n",
       "4.0          3\n",
       "8.0          1\n",
       "5.0          1\n",
       "Name: NUMBER OF PERSONS KILLED, dtype: int64"
      ]
     },
     "execution_count": 101,
     "metadata": {},
     "output_type": "execute_result"
    }
   ],
   "source": [
    "cdata['NUMBER OF PERSONS KILLED'].value_counts()"
   ]
  },
  {
   "cell_type": "code",
   "execution_count": 102,
   "metadata": {},
   "outputs": [
    {
     "name": "stdout",
     "output_type": "stream",
     "text": [
      "<class 'pandas.core.frame.DataFrame'>\n",
      "RangeIndex: 1720022 entries, 0 to 1720021\n",
      "Data columns (total 29 columns):\n",
      " #   Column                         Dtype  \n",
      "---  ------                         -----  \n",
      " 0   CRASH DATE                     object \n",
      " 1   CRASH TIME                     object \n",
      " 2   BOROUGH                        object \n",
      " 3   ZIP CODE                       object \n",
      " 4   LATITUDE                       float64\n",
      " 5   LONGITUDE                      float64\n",
      " 6   LOCATION                       object \n",
      " 7   ON STREET NAME                 object \n",
      " 8   CROSS STREET NAME              object \n",
      " 9   OFF STREET NAME                object \n",
      " 10  NUMBER OF PERSONS INJURED      float64\n",
      " 11  NUMBER OF PERSONS KILLED       float64\n",
      " 12  NUMBER OF PEDESTRIANS INJURED  int64  \n",
      " 13  NUMBER OF PEDESTRIANS KILLED   int64  \n",
      " 14  NUMBER OF CYCLIST INJURED      int64  \n",
      " 15  NUMBER OF CYCLIST KILLED       int64  \n",
      " 16  NUMBER OF MOTORIST INJURED     int64  \n",
      " 17  NUMBER OF MOTORIST KILLED      int64  \n",
      " 18  CONTRIBUTING FACTOR VEHICLE 1  object \n",
      " 19  CONTRIBUTING FACTOR VEHICLE 2  object \n",
      " 20  CONTRIBUTING FACTOR VEHICLE 3  object \n",
      " 21  CONTRIBUTING FACTOR VEHICLE 4  object \n",
      " 22  CONTRIBUTING FACTOR VEHICLE 5  object \n",
      " 23  COLLISION_ID                   int64  \n",
      " 24  VEHICLE TYPE CODE 1            object \n",
      " 25  VEHICLE TYPE CODE 2            object \n",
      " 26  VEHICLE TYPE CODE 3            object \n",
      " 27  VEHICLE TYPE CODE 4            object \n",
      " 28  VEHICLE TYPE CODE 5            object \n",
      "dtypes: float64(4), int64(7), object(18)\n",
      "memory usage: 380.6+ MB\n"
     ]
    }
   ],
   "source": [
    "cdata.info()"
   ]
  },
  {
   "cell_type": "code",
   "execution_count": 117,
   "metadata": {},
   "outputs": [],
   "source": [
    "cdata_man = cdata[cdata['BOROUGH']=='MANHATTAN'].copy()"
   ]
  },
  {
   "cell_type": "code",
   "execution_count": 118,
   "metadata": {},
   "outputs": [
    {
     "data": {
      "text/plain": [
       "(280531, 22)"
      ]
     },
     "execution_count": 118,
     "metadata": {},
     "output_type": "execute_result"
    }
   ],
   "source": [
    "cdata_man.shape"
   ]
  },
  {
   "cell_type": "code",
   "execution_count": 119,
   "metadata": {},
   "outputs": [
    {
     "data": {
      "text/plain": [
       "Index(['CRASH DATE', 'CRASH TIME', 'BOROUGH', 'ZIP CODE', 'LATITUDE',\n",
       "       'LONGITUDE', 'LOCATION', 'ON STREET NAME', 'CROSS STREET NAME',\n",
       "       'NUMBER OF PERSONS INJURED', 'NUMBER OF PERSONS KILLED',\n",
       "       'NUMBER OF PEDESTRIANS INJURED', 'NUMBER OF PEDESTRIANS KILLED',\n",
       "       'NUMBER OF CYCLIST INJURED', 'NUMBER OF CYCLIST KILLED',\n",
       "       'NUMBER OF MOTORIST INJURED', 'NUMBER OF MOTORIST KILLED',\n",
       "       'CONTRIBUTING FACTOR VEHICLE 1', 'CONTRIBUTING FACTOR VEHICLE 2',\n",
       "       'COLLISION_ID', 'VEHICLE TYPE CODE 1', 'VEHICLE TYPE CODE 2'],\n",
       "      dtype='object')"
      ]
     },
     "execution_count": 119,
     "metadata": {},
     "output_type": "execute_result"
    }
   ],
   "source": [
    "cdata_man.columns"
   ]
  },
  {
   "cell_type": "code",
   "execution_count": 120,
   "metadata": {},
   "outputs": [
    {
     "data": {
      "text/plain": [
       "CRASH DATE                           0\n",
       "CRASH TIME                           0\n",
       "BOROUGH                              0\n",
       "ZIP CODE                            15\n",
       "LATITUDE                          8692\n",
       "LONGITUDE                         8692\n",
       "LOCATION                          8692\n",
       "ON STREET NAME                   44356\n",
       "CROSS STREET NAME                44423\n",
       "NUMBER OF PERSONS INJURED            3\n",
       "NUMBER OF PERSONS KILLED             6\n",
       "NUMBER OF PEDESTRIANS INJURED        0\n",
       "NUMBER OF PEDESTRIANS KILLED         0\n",
       "NUMBER OF CYCLIST INJURED            0\n",
       "NUMBER OF CYCLIST KILLED             0\n",
       "NUMBER OF MOTORIST INJURED           0\n",
       "NUMBER OF MOTORIST KILLED            0\n",
       "CONTRIBUTING FACTOR VEHICLE 1      991\n",
       "CONTRIBUTING FACTOR VEHICLE 2    38359\n",
       "COLLISION_ID                         0\n",
       "VEHICLE TYPE CODE 1               1518\n",
       "VEHICLE TYPE CODE 2              38345\n",
       "dtype: int64"
      ]
     },
     "execution_count": 120,
     "metadata": {},
     "output_type": "execute_result"
    }
   ],
   "source": [
    "cdata_man.isna().sum()"
   ]
  },
  {
   "cell_type": "code",
   "execution_count": 121,
   "metadata": {},
   "outputs": [],
   "source": [
    "cdata_man.drop(columns=['ON STREET NAME', 'CROSS STREET NAME', 'CONTRIBUTING FACTOR VEHICLE 2','VEHICLE TYPE CODE 2'], inplace=True)"
   ]
  },
  {
   "cell_type": "code",
   "execution_count": 124,
   "metadata": {},
   "outputs": [],
   "source": [
    "cdata_man.dropna(axis=0, inplace=True)"
   ]
  },
  {
   "cell_type": "code",
   "execution_count": 125,
   "metadata": {},
   "outputs": [
    {
     "data": {
      "text/plain": [
       "(269758, 18)"
      ]
     },
     "execution_count": 125,
     "metadata": {},
     "output_type": "execute_result"
    }
   ],
   "source": [
    "cdata_man.shape"
   ]
  },
  {
   "cell_type": "code",
   "execution_count": 126,
   "metadata": {},
   "outputs": [
    {
     "data": {
      "text/html": [
       "<div>\n",
       "<style scoped>\n",
       "    .dataframe tbody tr th:only-of-type {\n",
       "        vertical-align: middle;\n",
       "    }\n",
       "\n",
       "    .dataframe tbody tr th {\n",
       "        vertical-align: top;\n",
       "    }\n",
       "\n",
       "    .dataframe thead th {\n",
       "        text-align: right;\n",
       "    }\n",
       "</style>\n",
       "<table border=\"1\" class=\"dataframe\">\n",
       "  <thead>\n",
       "    <tr style=\"text-align: right;\">\n",
       "      <th></th>\n",
       "      <th>CRASH DATE</th>\n",
       "      <th>CRASH TIME</th>\n",
       "      <th>BOROUGH</th>\n",
       "      <th>ZIP CODE</th>\n",
       "      <th>LATITUDE</th>\n",
       "      <th>LONGITUDE</th>\n",
       "      <th>LOCATION</th>\n",
       "      <th>NUMBER OF PERSONS INJURED</th>\n",
       "      <th>NUMBER OF PERSONS KILLED</th>\n",
       "      <th>NUMBER OF PEDESTRIANS INJURED</th>\n",
       "      <th>NUMBER OF PEDESTRIANS KILLED</th>\n",
       "      <th>NUMBER OF CYCLIST INJURED</th>\n",
       "      <th>NUMBER OF CYCLIST KILLED</th>\n",
       "      <th>NUMBER OF MOTORIST INJURED</th>\n",
       "      <th>NUMBER OF MOTORIST KILLED</th>\n",
       "      <th>CONTRIBUTING FACTOR VEHICLE 1</th>\n",
       "      <th>COLLISION_ID</th>\n",
       "      <th>VEHICLE TYPE CODE 1</th>\n",
       "    </tr>\n",
       "  </thead>\n",
       "  <tbody>\n",
       "    <tr>\n",
       "      <th>32</th>\n",
       "      <td>09/24/2020</td>\n",
       "      <td>16:36</td>\n",
       "      <td>MANHATTAN</td>\n",
       "      <td>10128</td>\n",
       "      <td>40.783245</td>\n",
       "      <td>-73.94473</td>\n",
       "      <td>(40.783245, -73.94473)</td>\n",
       "      <td>1.0</td>\n",
       "      <td>0.0</td>\n",
       "      <td>1</td>\n",
       "      <td>0</td>\n",
       "      <td>0</td>\n",
       "      <td>0</td>\n",
       "      <td>0</td>\n",
       "      <td>0</td>\n",
       "      <td>Failure to Yield Right-of-Way</td>\n",
       "      <td>4351409</td>\n",
       "      <td>Taxi</td>\n",
       "    </tr>\n",
       "    <tr>\n",
       "      <th>386</th>\n",
       "      <td>05/06/2020</td>\n",
       "      <td>0:00</td>\n",
       "      <td>MANHATTAN</td>\n",
       "      <td>10128</td>\n",
       "      <td>40.780170</td>\n",
       "      <td>-73.95510</td>\n",
       "      <td>(40.78017, -73.9551)</td>\n",
       "      <td>0.0</td>\n",
       "      <td>0.0</td>\n",
       "      <td>0</td>\n",
       "      <td>0</td>\n",
       "      <td>0</td>\n",
       "      <td>0</td>\n",
       "      <td>0</td>\n",
       "      <td>0</td>\n",
       "      <td>Unspecified</td>\n",
       "      <td>4312162</td>\n",
       "      <td>Sedan</td>\n",
       "    </tr>\n",
       "    <tr>\n",
       "      <th>437</th>\n",
       "      <td>10/02/2020</td>\n",
       "      <td>19:00</td>\n",
       "      <td>MANHATTAN</td>\n",
       "      <td>10128</td>\n",
       "      <td>40.781372</td>\n",
       "      <td>-73.94820</td>\n",
       "      <td>(40.781372, -73.9482)</td>\n",
       "      <td>0.0</td>\n",
       "      <td>0.0</td>\n",
       "      <td>0</td>\n",
       "      <td>0</td>\n",
       "      <td>0</td>\n",
       "      <td>0</td>\n",
       "      <td>0</td>\n",
       "      <td>0</td>\n",
       "      <td>Following Too Closely</td>\n",
       "      <td>4355018</td>\n",
       "      <td>Sedan</td>\n",
       "    </tr>\n",
       "    <tr>\n",
       "      <th>438</th>\n",
       "      <td>09/11/2020</td>\n",
       "      <td>14:41</td>\n",
       "      <td>MANHATTAN</td>\n",
       "      <td>10030</td>\n",
       "      <td>40.818714</td>\n",
       "      <td>-73.94199</td>\n",
       "      <td>(40.818714, -73.94199)</td>\n",
       "      <td>0.0</td>\n",
       "      <td>0.0</td>\n",
       "      <td>0</td>\n",
       "      <td>0</td>\n",
       "      <td>0</td>\n",
       "      <td>0</td>\n",
       "      <td>0</td>\n",
       "      <td>0</td>\n",
       "      <td>Other Vehicular</td>\n",
       "      <td>4348117</td>\n",
       "      <td>Sedan</td>\n",
       "    </tr>\n",
       "    <tr>\n",
       "      <th>444</th>\n",
       "      <td>08/20/2020</td>\n",
       "      <td>8:30</td>\n",
       "      <td>MANHATTAN</td>\n",
       "      <td>10025</td>\n",
       "      <td>40.799140</td>\n",
       "      <td>-73.96472</td>\n",
       "      <td>(40.79914, -73.96472)</td>\n",
       "      <td>0.0</td>\n",
       "      <td>0.0</td>\n",
       "      <td>0</td>\n",
       "      <td>0</td>\n",
       "      <td>0</td>\n",
       "      <td>0</td>\n",
       "      <td>0</td>\n",
       "      <td>0</td>\n",
       "      <td>Unspecified</td>\n",
       "      <td>4340329</td>\n",
       "      <td>Station Wagon/Sport Utility Vehicle</td>\n",
       "    </tr>\n",
       "  </tbody>\n",
       "</table>\n",
       "</div>"
      ],
      "text/plain": [
       "     CRASH DATE CRASH TIME    BOROUGH ZIP CODE   LATITUDE  LONGITUDE  \\\n",
       "32   09/24/2020      16:36  MANHATTAN    10128  40.783245  -73.94473   \n",
       "386  05/06/2020       0:00  MANHATTAN    10128  40.780170  -73.95510   \n",
       "437  10/02/2020      19:00  MANHATTAN    10128  40.781372  -73.94820   \n",
       "438  09/11/2020      14:41  MANHATTAN    10030  40.818714  -73.94199   \n",
       "444  08/20/2020       8:30  MANHATTAN    10025  40.799140  -73.96472   \n",
       "\n",
       "                   LOCATION  NUMBER OF PERSONS INJURED  \\\n",
       "32   (40.783245, -73.94473)                        1.0   \n",
       "386    (40.78017, -73.9551)                        0.0   \n",
       "437   (40.781372, -73.9482)                        0.0   \n",
       "438  (40.818714, -73.94199)                        0.0   \n",
       "444   (40.79914, -73.96472)                        0.0   \n",
       "\n",
       "     NUMBER OF PERSONS KILLED  NUMBER OF PEDESTRIANS INJURED  \\\n",
       "32                        0.0                              1   \n",
       "386                       0.0                              0   \n",
       "437                       0.0                              0   \n",
       "438                       0.0                              0   \n",
       "444                       0.0                              0   \n",
       "\n",
       "     NUMBER OF PEDESTRIANS KILLED  NUMBER OF CYCLIST INJURED  \\\n",
       "32                              0                          0   \n",
       "386                             0                          0   \n",
       "437                             0                          0   \n",
       "438                             0                          0   \n",
       "444                             0                          0   \n",
       "\n",
       "     NUMBER OF CYCLIST KILLED  NUMBER OF MOTORIST INJURED  \\\n",
       "32                          0                           0   \n",
       "386                         0                           0   \n",
       "437                         0                           0   \n",
       "438                         0                           0   \n",
       "444                         0                           0   \n",
       "\n",
       "     NUMBER OF MOTORIST KILLED  CONTRIBUTING FACTOR VEHICLE 1  COLLISION_ID  \\\n",
       "32                           0  Failure to Yield Right-of-Way       4351409   \n",
       "386                          0                    Unspecified       4312162   \n",
       "437                          0          Following Too Closely       4355018   \n",
       "438                          0                Other Vehicular       4348117   \n",
       "444                          0                    Unspecified       4340329   \n",
       "\n",
       "                     VEHICLE TYPE CODE 1  \n",
       "32                                  Taxi  \n",
       "386                                Sedan  \n",
       "437                                Sedan  \n",
       "438                                Sedan  \n",
       "444  Station Wagon/Sport Utility Vehicle  "
      ]
     },
     "execution_count": 126,
     "metadata": {},
     "output_type": "execute_result"
    }
   ],
   "source": [
    "cdata_man.head()"
   ]
  },
  {
   "cell_type": "code",
   "execution_count": 128,
   "metadata": {},
   "outputs": [
    {
     "data": {
      "text/plain": [
       "CRASH DATE                       0\n",
       "CRASH TIME                       0\n",
       "BOROUGH                          0\n",
       "ZIP CODE                         0\n",
       "LATITUDE                         0\n",
       "LONGITUDE                        0\n",
       "LOCATION                         0\n",
       "NUMBER OF PERSONS INJURED        0\n",
       "NUMBER OF PERSONS KILLED         0\n",
       "NUMBER OF PEDESTRIANS INJURED    0\n",
       "NUMBER OF PEDESTRIANS KILLED     0\n",
       "NUMBER OF CYCLIST INJURED        0\n",
       "NUMBER OF CYCLIST KILLED         0\n",
       "NUMBER OF MOTORIST INJURED       0\n",
       "NUMBER OF MOTORIST KILLED        0\n",
       "CONTRIBUTING FACTOR VEHICLE 1    0\n",
       "COLLISION_ID                     0\n",
       "VEHICLE TYPE CODE 1              0\n",
       "dtype: int64"
      ]
     },
     "execution_count": 128,
     "metadata": {},
     "output_type": "execute_result"
    }
   ],
   "source": [
    "cdata_man.isna().sum()"
   ]
  },
  {
   "cell_type": "code",
   "execution_count": 131,
   "metadata": {},
   "outputs": [
    {
     "data": {
      "text/plain": [
       "<matplotlib.collections.PathCollection at 0x7fea58c6b910>"
      ]
     },
     "execution_count": 131,
     "metadata": {},
     "output_type": "execute_result"
    },
    {
     "data": {
      "image/png": "[encoded data removed]",
      "text/plain": [
       "<Figure size 432x288 with 1 Axes>"
      ]
     },
     "metadata": {
      "needs_background": "light"
     },
     "output_type": "display_data"
    }
   ],
   "source": [
    "plt.scatter(cdata['LATITUDE'], cdata['LONGITUDE'])"
   ]
  },
  {
   "cell_type": "code",
   "execution_count": null,
   "metadata": {},
   "outputs": [],
   "source": []
  }
 ],
 "metadata": {
  "kernelspec": {
   "display_name": "Python 3",
   "language": "python",
   "name": "python3"
  },
  "language_info": {
   "codemirror_mode": {
    "name": "ipython",
    "version": 3
   },
   "file_extension": ".py",
   "mimetype": "text/x-python",
   "name": "python",
   "nbconvert_exporter": "python",
   "pygments_lexer": "ipython3",
   "version": "3.8.5"
  }
 },
 "nbformat": 4,
 "nbformat_minor": 4
}
