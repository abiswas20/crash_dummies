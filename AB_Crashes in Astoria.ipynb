{
 "cells": [
  {
   "cell_type": "code",
   "execution_count": 1,
   "metadata": {},
   "outputs": [],
   "source": [
    "\n",
    "# normal \n",
    "import pandas as pd\n",
    "\n",
    "\n",
    "# imports \n",
    "import folium\n",
    "from folium import Choropleth, Circle, Marker\n",
    "from folium.plugins import HeatMap, MarkerCluster\n",
    "\n",
    "# Geo-location stuffs\n",
    "import geopandas as gpd\n",
    "from shapely.geometry import Point, Polygon"
   ]
  },
  {
   "cell_type": "code",
   "execution_count": 2,
   "metadata": {},
   "outputs": [],
   "source": [
    "#!conda install -c conda-forge geojson"
   ]
  },
  {
   "cell_type": "markdown",
   "metadata": {},
   "source": [
    "---"
   ]
  },
  {
   "cell_type": "code",
   "execution_count": 3,
   "metadata": {},
   "outputs": [],
   "source": [
    "# loads in crash data\n",
    "\n",
    "df = pd.read_csv('./data/crash_features_2019.csv')"
   ]
  },
  {
   "cell_type": "code",
   "execution_count": 4,
   "metadata": {},
   "outputs": [],
   "source": [
    "df = gpd.GeoDataFrame(df, geometry = gpd.points_from_xy(df.LONGITUDE, df.LATITUDE))"
   ]
  },
  {
   "cell_type": "code",
   "execution_count": 5,
   "metadata": {},
   "outputs": [],
   "source": [
    "# Creates sample crash data\n",
    "\n",
    "#df = df.sample(2_000)"
   ]
  },
  {
   "cell_type": "code",
   "execution_count": 6,
   "metadata": {},
   "outputs": [],
   "source": [
    "\"\"\"\n",
    "    Creating Reduced Columns \n",
    "\n",
    "\"\"\"\n",
    "\n",
    "# list of columns names\n",
    "\n",
    "columns_names = list(df.columns)\n",
    "\n",
    "#removing names of columns you want to KEEP\n",
    "\n",
    "columns_names.remove('ZIP CODE')\n",
    "columns_names.remove('BOROUGH')\n",
    "columns_names.remove('LATITUDE')\n",
    "columns_names.remove('LOCATION')\n",
    "columns_names.remove('LONGITUDE')\n",
    "columns_names.remove('CONTRIBUTING FACTOR VEHICLE 1')\n",
    "columns_names.remove('CRASH TIME')\n",
    "columns_names.remove('CRASH DATE')\n",
    "columns_names.remove('date')\n",
    "columns_names.remove('geometry')\n",
    "\n",
    "#dropping the rest of the list \n",
    "\n",
    "df = df.drop(columns = columns_names, axis = 1)"
   ]
  },
  {
   "cell_type": "code",
   "execution_count": 7,
   "metadata": {},
   "outputs": [
    {
     "data": {
      "text/html": [
       "<div>\n",
       "<style scoped>\n",
       "    .dataframe tbody tr th:only-of-type {\n",
       "        vertical-align: middle;\n",
       "    }\n",
       "\n",
       "    .dataframe tbody tr th {\n",
       "        vertical-align: top;\n",
       "    }\n",
       "\n",
       "    .dataframe thead th {\n",
       "        text-align: right;\n",
       "    }\n",
       "</style>\n",
       "<table border=\"1\" class=\"dataframe\">\n",
       "  <thead>\n",
       "    <tr style=\"text-align: right;\">\n",
       "      <th></th>\n",
       "      <th>date</th>\n",
       "      <th>CRASH DATE</th>\n",
       "      <th>CRASH TIME</th>\n",
       "      <th>BOROUGH</th>\n",
       "      <th>ZIP CODE</th>\n",
       "      <th>LATITUDE</th>\n",
       "      <th>LONGITUDE</th>\n",
       "      <th>LOCATION</th>\n",
       "      <th>CONTRIBUTING FACTOR VEHICLE 1</th>\n",
       "      <th>geometry</th>\n",
       "    </tr>\n",
       "  </thead>\n",
       "  <tbody>\n",
       "    <tr>\n",
       "      <th>0</th>\n",
       "      <td>2019-01-01</td>\n",
       "      <td>01/01/2019</td>\n",
       "      <td>1:10</td>\n",
       "      <td>MANHATTAN</td>\n",
       "      <td>10011.0</td>\n",
       "      <td>40.737360</td>\n",
       "      <td>-73.996850</td>\n",
       "      <td>(40.73736, -73.99685)</td>\n",
       "      <td>Driver Inattention/Distraction</td>\n",
       "      <td>POINT (-73.99685 40.73736)</td>\n",
       "    </tr>\n",
       "    <tr>\n",
       "      <th>1</th>\n",
       "      <td>2019-01-01</td>\n",
       "      <td>01/01/2019</td>\n",
       "      <td>15:00</td>\n",
       "      <td>BRONX</td>\n",
       "      <td>10466.0</td>\n",
       "      <td>40.892624</td>\n",
       "      <td>-73.859924</td>\n",
       "      <td>(40.892624, -73.859924)</td>\n",
       "      <td>Other Vehicular</td>\n",
       "      <td>POINT (-73.85992 40.89262)</td>\n",
       "    </tr>\n",
       "  </tbody>\n",
       "</table>\n",
       "</div>"
      ],
      "text/plain": [
       "         date  CRASH DATE CRASH TIME    BOROUGH  ZIP CODE   LATITUDE  \\\n",
       "0  2019-01-01  01/01/2019       1:10  MANHATTAN   10011.0  40.737360   \n",
       "1  2019-01-01  01/01/2019      15:00      BRONX   10466.0  40.892624   \n",
       "\n",
       "   LONGITUDE                 LOCATION   CONTRIBUTING FACTOR VEHICLE 1  \\\n",
       "0 -73.996850    (40.73736, -73.99685)  Driver Inattention/Distraction   \n",
       "1 -73.859924  (40.892624, -73.859924)                 Other Vehicular   \n",
       "\n",
       "                     geometry  \n",
       "0  POINT (-73.99685 40.73736)  \n",
       "1  POINT (-73.85992 40.89262)  "
      ]
     },
     "execution_count": 7,
     "metadata": {},
     "output_type": "execute_result"
    }
   ],
   "source": [
    "df.head(2)"
   ]
  },
  {
   "cell_type": "code",
   "execution_count": 8,
   "metadata": {},
   "outputs": [
    {
     "data": {
      "text/plain": [
       "geopandas.geodataframe.GeoDataFrame"
      ]
     },
     "execution_count": 8,
     "metadata": {},
     "output_type": "execute_result"
    }
   ],
   "source": [
    "type(df)"
   ]
  },
  {
   "cell_type": "code",
   "execution_count": 9,
   "metadata": {},
   "outputs": [
    {
     "data": {
      "image/svg+xml": [
       "<svg xmlns=\"http://www.w3.org/2000/svg\" xmlns:xlink=\"http://www.w3.org/1999/xlink\" width=\"100.0\" height=\"100.0\" viewBox=\"-74.99685 39.73736 2.0 2.0\" preserveAspectRatio=\"xMinYMin meet\"><g transform=\"matrix(1,0,0,-1,0,81.47472)\"><circle cx=\"-73.99685\" cy=\"40.73736\" r=\"0.06\" stroke=\"#555555\" stroke-width=\"0.02\" fill=\"#66cc99\" opacity=\"0.6\" /></g></svg>"
      ],
      "text/plain": [
       "<shapely.geometry.point.Point at 0x7f8f8761d220>"
      ]
     },
     "execution_count": 9,
     "metadata": {},
     "output_type": "execute_result"
    }
   ],
   "source": [
    "df.iloc[0,-1]"
   ]
  },
  {
   "cell_type": "markdown",
   "metadata": {},
   "source": [
    "---"
   ]
  },
  {
   "cell_type": "markdown",
   "metadata": {},
   "source": [
    "## Geo Data"
   ]
  },
  {
   "cell_type": "markdown",
   "metadata": {},
   "source": [
    "#### Neighborhood polygon"
   ]
  },
  {
   "cell_type": "code",
   "execution_count": 10,
   "metadata": {},
   "outputs": [],
   "source": [
    "# loads neighboorhood data\n",
    "\n",
    "neighborhoods = gpd.read_file('./neighborhoods/d085e2f8d0b54d4590b1e7d1f35594c1pediacitiesnycneighborhoods.geojson.json')"
   ]
  },
  {
   "cell_type": "code",
   "execution_count": 11,
   "metadata": {},
   "outputs": [
    {
     "data": {
      "text/plain": [
       "(310, 5)"
      ]
     },
     "execution_count": 11,
     "metadata": {},
     "output_type": "execute_result"
    }
   ],
   "source": [
    "# checks shape of data\n",
    "\n",
    "neighborhoods.shape"
   ]
  },
  {
   "cell_type": "code",
   "execution_count": 12,
   "metadata": {},
   "outputs": [
    {
     "data": {
      "text/html": [
       "<div>\n",
       "<style scoped>\n",
       "    .dataframe tbody tr th:only-of-type {\n",
       "        vertical-align: middle;\n",
       "    }\n",
       "\n",
       "    .dataframe tbody tr th {\n",
       "        vertical-align: top;\n",
       "    }\n",
       "\n",
       "    .dataframe thead th {\n",
       "        text-align: right;\n",
       "    }\n",
       "</style>\n",
       "<table border=\"1\" class=\"dataframe\">\n",
       "  <thead>\n",
       "    <tr style=\"text-align: right;\">\n",
       "      <th></th>\n",
       "      <th>neighborhood</th>\n",
       "      <th>boroughCode</th>\n",
       "      <th>borough</th>\n",
       "      <th>@id</th>\n",
       "      <th>geometry</th>\n",
       "    </tr>\n",
       "  </thead>\n",
       "  <tbody>\n",
       "    <tr>\n",
       "      <th>7</th>\n",
       "      <td>Bath Beach</td>\n",
       "      <td>3</td>\n",
       "      <td>Brooklyn</td>\n",
       "      <td>http://nyc.pediacities.com/Resource/Neighborho...</td>\n",
       "      <td>POLYGON ((-73.99381 40.60195, -73.99962 40.596...</td>\n",
       "    </tr>\n",
       "    <tr>\n",
       "      <th>9</th>\n",
       "      <td>Bay Ridge</td>\n",
       "      <td>3</td>\n",
       "      <td>Brooklyn</td>\n",
       "      <td>http://nyc.pediacities.com/Resource/Neighborho...</td>\n",
       "      <td>POLYGON ((-74.01475 40.63397, -74.01475 40.633...</td>\n",
       "    </tr>\n",
       "    <tr>\n",
       "      <th>16</th>\n",
       "      <td>Bedford-Stuyvesant</td>\n",
       "      <td>3</td>\n",
       "      <td>Brooklyn</td>\n",
       "      <td>http://nyc.pediacities.com/Resource/Neighborho...</td>\n",
       "      <td>POLYGON ((-73.94115 40.70028, -73.90548 40.680...</td>\n",
       "    </tr>\n",
       "    <tr>\n",
       "      <th>20</th>\n",
       "      <td>Bensonhurst</td>\n",
       "      <td>3</td>\n",
       "      <td>Brooklyn</td>\n",
       "      <td>http://nyc.pediacities.com/Resource/Neighborho...</td>\n",
       "      <td>POLYGON ((-73.97300 40.60883, -73.97299 40.608...</td>\n",
       "    </tr>\n",
       "    <tr>\n",
       "      <th>21</th>\n",
       "      <td>Bergen Beach</td>\n",
       "      <td>3</td>\n",
       "      <td>Brooklyn</td>\n",
       "      <td>http://nyc.pediacities.com/Resource/Neighborho...</td>\n",
       "      <td>POLYGON ((-73.91732 40.63101, -73.90396 40.624...</td>\n",
       "    </tr>\n",
       "    <tr>\n",
       "      <th>...</th>\n",
       "      <td>...</td>\n",
       "      <td>...</td>\n",
       "      <td>...</td>\n",
       "      <td>...</td>\n",
       "      <td>...</td>\n",
       "    </tr>\n",
       "    <tr>\n",
       "      <th>270</th>\n",
       "      <td>South Slope</td>\n",
       "      <td>3</td>\n",
       "      <td>Brooklyn</td>\n",
       "      <td>http://nyc.pediacities.com/Resource/Neighborho...</td>\n",
       "      <td>POLYGON ((-73.97686 40.66461, -73.97685 40.664...</td>\n",
       "    </tr>\n",
       "    <tr>\n",
       "      <th>278</th>\n",
       "      <td>Sunset Park</td>\n",
       "      <td>3</td>\n",
       "      <td>Brooklyn</td>\n",
       "      <td>http://nyc.pediacities.com/Resource/Neighborho...</td>\n",
       "      <td>POLYGON ((-73.99280 40.66553, -73.99300 40.665...</td>\n",
       "    </tr>\n",
       "    <tr>\n",
       "      <th>293</th>\n",
       "      <td>Vinegar Hill</td>\n",
       "      <td>3</td>\n",
       "      <td>Brooklyn</td>\n",
       "      <td>http://nyc.pediacities.com/Resource/Neighborho...</td>\n",
       "      <td>POLYGON ((-73.97905 40.70597, -73.97906 40.705...</td>\n",
       "    </tr>\n",
       "    <tr>\n",
       "      <th>303</th>\n",
       "      <td>Williamsburg</td>\n",
       "      <td>4</td>\n",
       "      <td>Brooklyn</td>\n",
       "      <td>http://nyc.pediacities.com/Resource/Neighborho...</td>\n",
       "      <td>POLYGON ((-73.95757 40.72510, -73.95300 40.722...</td>\n",
       "    </tr>\n",
       "    <tr>\n",
       "      <th>305</th>\n",
       "      <td>Windsor Terrace</td>\n",
       "      <td>3</td>\n",
       "      <td>Brooklyn</td>\n",
       "      <td>http://nyc.pediacities.com/Resource/Neighborho...</td>\n",
       "      <td>POLYGON ((-73.98006 40.66075, -73.97988 40.660...</td>\n",
       "    </tr>\n",
       "  </tbody>\n",
       "</table>\n",
       "<p>71 rows × 5 columns</p>\n",
       "</div>"
      ],
      "text/plain": [
       "           neighborhood boroughCode   borough  \\\n",
       "7            Bath Beach           3  Brooklyn   \n",
       "9             Bay Ridge           3  Brooklyn   \n",
       "16   Bedford-Stuyvesant           3  Brooklyn   \n",
       "20          Bensonhurst           3  Brooklyn   \n",
       "21         Bergen Beach           3  Brooklyn   \n",
       "..                  ...         ...       ...   \n",
       "270         South Slope           3  Brooklyn   \n",
       "278         Sunset Park           3  Brooklyn   \n",
       "293        Vinegar Hill           3  Brooklyn   \n",
       "303        Williamsburg           4  Brooklyn   \n",
       "305     Windsor Terrace           3  Brooklyn   \n",
       "\n",
       "                                                   @id  \\\n",
       "7    http://nyc.pediacities.com/Resource/Neighborho...   \n",
       "9    http://nyc.pediacities.com/Resource/Neighborho...   \n",
       "16   http://nyc.pediacities.com/Resource/Neighborho...   \n",
       "20   http://nyc.pediacities.com/Resource/Neighborho...   \n",
       "21   http://nyc.pediacities.com/Resource/Neighborho...   \n",
       "..                                                 ...   \n",
       "270  http://nyc.pediacities.com/Resource/Neighborho...   \n",
       "278  http://nyc.pediacities.com/Resource/Neighborho...   \n",
       "293  http://nyc.pediacities.com/Resource/Neighborho...   \n",
       "303  http://nyc.pediacities.com/Resource/Neighborho...   \n",
       "305  http://nyc.pediacities.com/Resource/Neighborho...   \n",
       "\n",
       "                                              geometry  \n",
       "7    POLYGON ((-73.99381 40.60195, -73.99962 40.596...  \n",
       "9    POLYGON ((-74.01475 40.63397, -74.01475 40.633...  \n",
       "16   POLYGON ((-73.94115 40.70028, -73.90548 40.680...  \n",
       "20   POLYGON ((-73.97300 40.60883, -73.97299 40.608...  \n",
       "21   POLYGON ((-73.91732 40.63101, -73.90396 40.624...  \n",
       "..                                                 ...  \n",
       "270  POLYGON ((-73.97686 40.66461, -73.97685 40.664...  \n",
       "278  POLYGON ((-73.99280 40.66553, -73.99300 40.665...  \n",
       "293  POLYGON ((-73.97905 40.70597, -73.97906 40.705...  \n",
       "303  POLYGON ((-73.95757 40.72510, -73.95300 40.722...  \n",
       "305  POLYGON ((-73.98006 40.66075, -73.97988 40.660...  \n",
       "\n",
       "[71 rows x 5 columns]"
      ]
     },
     "execution_count": 12,
     "metadata": {},
     "output_type": "execute_result"
    }
   ],
   "source": [
    "# looks at all brooklyn neighborhoods\n",
    "\n",
    "neighborhoods[neighborhoods['borough'] == 'Brooklyn']"
   ]
  },
  {
   "cell_type": "code",
   "execution_count": 13,
   "metadata": {},
   "outputs": [
    {
     "data": {
      "text/html": [
       "<div>\n",
       "<style scoped>\n",
       "    .dataframe tbody tr th:only-of-type {\n",
       "        vertical-align: middle;\n",
       "    }\n",
       "\n",
       "    .dataframe tbody tr th {\n",
       "        vertical-align: top;\n",
       "    }\n",
       "\n",
       "    .dataframe thead th {\n",
       "        text-align: right;\n",
       "    }\n",
       "</style>\n",
       "<table border=\"1\" class=\"dataframe\">\n",
       "  <thead>\n",
       "    <tr style=\"text-align: right;\">\n",
       "      <th></th>\n",
       "      <th>neighborhood</th>\n",
       "      <th>boroughCode</th>\n",
       "      <th>borough</th>\n",
       "      <th>@id</th>\n",
       "      <th>geometry</th>\n",
       "    </tr>\n",
       "  </thead>\n",
       "  <tbody>\n",
       "    <tr>\n",
       "      <th>6</th>\n",
       "      <td>Astoria</td>\n",
       "      <td>4</td>\n",
       "      <td>Queens</td>\n",
       "      <td>http://nyc.pediacities.com/Resource/Neighborho...</td>\n",
       "      <td>POLYGON ((-73.90160 40.76777, -73.90270 40.766...</td>\n",
       "    </tr>\n",
       "  </tbody>\n",
       "</table>\n",
       "</div>"
      ],
      "text/plain": [
       "  neighborhood boroughCode borough  \\\n",
       "6      Astoria           4  Queens   \n",
       "\n",
       "                                                 @id  \\\n",
       "6  http://nyc.pediacities.com/Resource/Neighborho...   \n",
       "\n",
       "                                            geometry  \n",
       "6  POLYGON ((-73.90160 40.76777, -73.90270 40.766...  "
      ]
     },
     "execution_count": 13,
     "metadata": {},
     "output_type": "execute_result"
    }
   ],
   "source": [
    "# Geo location  polygon for Astoria queens\n",
    "\n",
    "astoria =  neighborhoods[neighborhoods['neighborhood'] == 'Astoria']\n",
    "astoria"
   ]
  },
  {
   "cell_type": "code",
   "execution_count": 14,
   "metadata": {},
   "outputs": [
    {
     "data": {
      "text/plain": [
       "6    POLYGON ((-73.90160 40.76777, -73.90270 40.766...\n",
       "Name: geometry, dtype: geometry"
      ]
     },
     "execution_count": 14,
     "metadata": {},
     "output_type": "execute_result"
    }
   ],
   "source": [
    "astoria['geometry']"
   ]
  },
  {
   "cell_type": "code",
   "execution_count": 15,
   "metadata": {},
   "outputs": [],
   "source": [
    "#df['CRASH TIME'].splt(:)"
   ]
  },
  {
   "cell_type": "code",
   "execution_count": 16,
   "metadata": {},
   "outputs": [
    {
     "ename": "DriverError",
     "evalue": "./hospitals/nyu_2451_34494.shp: No such file or directory",
     "output_type": "error",
     "traceback": [
      "\u001b[0;31m---------------------------------------------------------------------------\u001b[0m",
      "\u001b[0;31mCPLE_OpenFailedError\u001b[0m                      Traceback (most recent call last)",
      "\u001b[0;32mfiona/_shim.pyx\u001b[0m in \u001b[0;36mfiona._shim.gdal_open_vector\u001b[0;34m()\u001b[0m\n",
      "\u001b[0;32mfiona/_err.pyx\u001b[0m in \u001b[0;36mfiona._err.exc_wrap_pointer\u001b[0;34m()\u001b[0m\n",
      "\u001b[0;31mCPLE_OpenFailedError\u001b[0m: ./hospitals/nyu_2451_34494.shp: No such file or directory",
      "\nDuring handling of the above exception, another exception occurred:\n",
      "\u001b[0;31mDriverError\u001b[0m                               Traceback (most recent call last)",
      "\u001b[0;32m<ipython-input-16-18f3aaf4ae39>\u001b[0m in \u001b[0;36m<module>\u001b[0;34m\u001b[0m\n\u001b[1;32m      3\u001b[0m \u001b[0;31m# wrong gps locations going to update\u001b[0m\u001b[0;34m\u001b[0m\u001b[0;34m\u001b[0m\u001b[0;34m\u001b[0m\u001b[0m\n\u001b[1;32m      4\u001b[0m \u001b[0;34m\u001b[0m\u001b[0m\n\u001b[0;32m----> 5\u001b[0;31m \u001b[0mhospitals\u001b[0m \u001b[0;34m=\u001b[0m \u001b[0mgpd\u001b[0m\u001b[0;34m.\u001b[0m\u001b[0mread_file\u001b[0m\u001b[0;34m(\u001b[0m\u001b[0;34m\"./hospitals/nyu_2451_34494.shp\"\u001b[0m\u001b[0;34m)\u001b[0m\u001b[0;34m\u001b[0m\u001b[0;34m\u001b[0m\u001b[0m\n\u001b[0m\u001b[1;32m      6\u001b[0m \u001b[0;31m#hospitals.crs = {'init': 'epsg:4326'}\u001b[0m\u001b[0;34m\u001b[0m\u001b[0;34m\u001b[0m\u001b[0;34m\u001b[0m\u001b[0m\n\u001b[1;32m      7\u001b[0m \u001b[0mhospitals\u001b[0m\u001b[0;34m.\u001b[0m\u001b[0mhead\u001b[0m\u001b[0;34m(\u001b[0m\u001b[0;36m2\u001b[0m\u001b[0;34m)\u001b[0m\u001b[0;34m\u001b[0m\u001b[0;34m\u001b[0m\u001b[0m\n",
      "\u001b[0;32m~/venv/lib/python3.8/site-packages/geopandas/io/file.py\u001b[0m in \u001b[0;36m_read_file\u001b[0;34m(filename, bbox, mask, rows, **kwargs)\u001b[0m\n\u001b[1;32m     94\u001b[0m \u001b[0;34m\u001b[0m\u001b[0m\n\u001b[1;32m     95\u001b[0m     \u001b[0;32mwith\u001b[0m \u001b[0mfiona_env\u001b[0m\u001b[0;34m(\u001b[0m\u001b[0;34m)\u001b[0m\u001b[0;34m:\u001b[0m\u001b[0;34m\u001b[0m\u001b[0;34m\u001b[0m\u001b[0m\n\u001b[0;32m---> 96\u001b[0;31m         \u001b[0;32mwith\u001b[0m \u001b[0mreader\u001b[0m\u001b[0;34m(\u001b[0m\u001b[0mpath_or_bytes\u001b[0m\u001b[0;34m,\u001b[0m \u001b[0;34m**\u001b[0m\u001b[0mkwargs\u001b[0m\u001b[0;34m)\u001b[0m \u001b[0;32mas\u001b[0m \u001b[0mfeatures\u001b[0m\u001b[0;34m:\u001b[0m\u001b[0;34m\u001b[0m\u001b[0;34m\u001b[0m\u001b[0m\n\u001b[0m\u001b[1;32m     97\u001b[0m \u001b[0;34m\u001b[0m\u001b[0m\n\u001b[1;32m     98\u001b[0m             \u001b[0;31m# In a future Fiona release the crs attribute of features will\u001b[0m\u001b[0;34m\u001b[0m\u001b[0;34m\u001b[0m\u001b[0;34m\u001b[0m\u001b[0m\n",
      "\u001b[0;32m~/venv/lib/python3.8/site-packages/fiona/env.py\u001b[0m in \u001b[0;36mwrapper\u001b[0;34m(*args, **kwargs)\u001b[0m\n\u001b[1;32m    398\u001b[0m     \u001b[0;32mdef\u001b[0m \u001b[0mwrapper\u001b[0m\u001b[0;34m(\u001b[0m\u001b[0;34m*\u001b[0m\u001b[0margs\u001b[0m\u001b[0;34m,\u001b[0m \u001b[0;34m**\u001b[0m\u001b[0mkwargs\u001b[0m\u001b[0;34m)\u001b[0m\u001b[0;34m:\u001b[0m\u001b[0;34m\u001b[0m\u001b[0;34m\u001b[0m\u001b[0m\n\u001b[1;32m    399\u001b[0m         \u001b[0;32mif\u001b[0m \u001b[0mlocal\u001b[0m\u001b[0;34m.\u001b[0m\u001b[0m_env\u001b[0m\u001b[0;34m:\u001b[0m\u001b[0;34m\u001b[0m\u001b[0;34m\u001b[0m\u001b[0m\n\u001b[0;32m--> 400\u001b[0;31m             \u001b[0;32mreturn\u001b[0m \u001b[0mf\u001b[0m\u001b[0;34m(\u001b[0m\u001b[0;34m*\u001b[0m\u001b[0margs\u001b[0m\u001b[0;34m,\u001b[0m \u001b[0;34m**\u001b[0m\u001b[0mkwargs\u001b[0m\u001b[0;34m)\u001b[0m\u001b[0;34m\u001b[0m\u001b[0;34m\u001b[0m\u001b[0m\n\u001b[0m\u001b[1;32m    401\u001b[0m         \u001b[0;32melse\u001b[0m\u001b[0;34m:\u001b[0m\u001b[0;34m\u001b[0m\u001b[0;34m\u001b[0m\u001b[0m\n\u001b[1;32m    402\u001b[0m             \u001b[0;32mif\u001b[0m \u001b[0misinstance\u001b[0m\u001b[0;34m(\u001b[0m\u001b[0margs\u001b[0m\u001b[0;34m[\u001b[0m\u001b[0;36m0\u001b[0m\u001b[0;34m]\u001b[0m\u001b[0;34m,\u001b[0m \u001b[0mstr\u001b[0m\u001b[0;34m)\u001b[0m\u001b[0;34m:\u001b[0m\u001b[0;34m\u001b[0m\u001b[0;34m\u001b[0m\u001b[0m\n",
      "\u001b[0;32m~/venv/lib/python3.8/site-packages/fiona/__init__.py\u001b[0m in \u001b[0;36mopen\u001b[0;34m(fp, mode, driver, schema, crs, encoding, layer, vfs, enabled_drivers, crs_wkt, **kwargs)\u001b[0m\n\u001b[1;32m    254\u001b[0m \u001b[0;34m\u001b[0m\u001b[0m\n\u001b[1;32m    255\u001b[0m         \u001b[0;32mif\u001b[0m \u001b[0mmode\u001b[0m \u001b[0;32min\u001b[0m \u001b[0;34m(\u001b[0m\u001b[0;34m'a'\u001b[0m\u001b[0;34m,\u001b[0m \u001b[0;34m'r'\u001b[0m\u001b[0;34m)\u001b[0m\u001b[0;34m:\u001b[0m\u001b[0;34m\u001b[0m\u001b[0;34m\u001b[0m\u001b[0m\n\u001b[0;32m--> 256\u001b[0;31m             c = Collection(path, mode, driver=driver, encoding=encoding,\n\u001b[0m\u001b[1;32m    257\u001b[0m                            layer=layer, enabled_drivers=enabled_drivers, **kwargs)\n\u001b[1;32m    258\u001b[0m         \u001b[0;32melif\u001b[0m \u001b[0mmode\u001b[0m \u001b[0;34m==\u001b[0m \u001b[0;34m'w'\u001b[0m\u001b[0;34m:\u001b[0m\u001b[0;34m\u001b[0m\u001b[0;34m\u001b[0m\u001b[0m\n",
      "\u001b[0;32m~/venv/lib/python3.8/site-packages/fiona/collection.py\u001b[0m in \u001b[0;36m__init__\u001b[0;34m(self, path, mode, driver, schema, crs, encoding, layer, vsi, archive, enabled_drivers, crs_wkt, ignore_fields, ignore_geometry, **kwargs)\u001b[0m\n\u001b[1;32m    162\u001b[0m             \u001b[0;32mif\u001b[0m \u001b[0mself\u001b[0m\u001b[0;34m.\u001b[0m\u001b[0mmode\u001b[0m \u001b[0;34m==\u001b[0m \u001b[0;34m'r'\u001b[0m\u001b[0;34m:\u001b[0m\u001b[0;34m\u001b[0m\u001b[0;34m\u001b[0m\u001b[0m\n\u001b[1;32m    163\u001b[0m                 \u001b[0mself\u001b[0m\u001b[0;34m.\u001b[0m\u001b[0msession\u001b[0m \u001b[0;34m=\u001b[0m \u001b[0mSession\u001b[0m\u001b[0;34m(\u001b[0m\u001b[0;34m)\u001b[0m\u001b[0;34m\u001b[0m\u001b[0;34m\u001b[0m\u001b[0m\n\u001b[0;32m--> 164\u001b[0;31m                 \u001b[0mself\u001b[0m\u001b[0;34m.\u001b[0m\u001b[0msession\u001b[0m\u001b[0;34m.\u001b[0m\u001b[0mstart\u001b[0m\u001b[0;34m(\u001b[0m\u001b[0mself\u001b[0m\u001b[0;34m,\u001b[0m \u001b[0;34m**\u001b[0m\u001b[0mkwargs\u001b[0m\u001b[0;34m)\u001b[0m\u001b[0;34m\u001b[0m\u001b[0;34m\u001b[0m\u001b[0m\n\u001b[0m\u001b[1;32m    165\u001b[0m             \u001b[0;32melif\u001b[0m \u001b[0mself\u001b[0m\u001b[0;34m.\u001b[0m\u001b[0mmode\u001b[0m \u001b[0;32min\u001b[0m \u001b[0;34m(\u001b[0m\u001b[0;34m'a'\u001b[0m\u001b[0;34m,\u001b[0m \u001b[0;34m'w'\u001b[0m\u001b[0;34m)\u001b[0m\u001b[0;34m:\u001b[0m\u001b[0;34m\u001b[0m\u001b[0;34m\u001b[0m\u001b[0m\n\u001b[1;32m    166\u001b[0m                 \u001b[0mself\u001b[0m\u001b[0;34m.\u001b[0m\u001b[0msession\u001b[0m \u001b[0;34m=\u001b[0m \u001b[0mWritingSession\u001b[0m\u001b[0;34m(\u001b[0m\u001b[0;34m)\u001b[0m\u001b[0;34m\u001b[0m\u001b[0;34m\u001b[0m\u001b[0m\n",
      "\u001b[0;32mfiona/ogrext.pyx\u001b[0m in \u001b[0;36mfiona.ogrext.Session.start\u001b[0;34m()\u001b[0m\n",
      "\u001b[0;32mfiona/_shim.pyx\u001b[0m in \u001b[0;36mfiona._shim.gdal_open_vector\u001b[0;34m()\u001b[0m\n",
      "\u001b[0;31mDriverError\u001b[0m: ./hospitals/nyu_2451_34494.shp: No such file or directory"
     ]
    }
   ],
   "source": [
    "# Hospitals \n",
    "\n",
    "# wrong gps locations going to update\n",
    "\n",
    "hospitals = gpd.read_file(\"./hospitals/nyu_2451_34494.shp\")\n",
    "#hospitals.crs = {'init': 'epsg:4326'}\n",
    "hospitals.head(2)"
   ]
  },
  {
   "cell_type": "code",
   "execution_count": null,
   "metadata": {},
   "outputs": [],
   "source": []
  },
  {
   "cell_type": "code",
   "execution_count": null,
   "metadata": {},
   "outputs": [],
   "source": []
  },
  {
   "cell_type": "markdown",
   "metadata": {},
   "source": [
    "## Geo calculation stuffs"
   ]
  },
  {
   "cell_type": "code",
   "execution_count": 17,
   "metadata": {},
   "outputs": [
    {
     "data": {
      "text/plain": [
       "shapely.geometry.point.Point"
      ]
     },
     "execution_count": 17,
     "metadata": {},
     "output_type": "execute_result"
    }
   ],
   "source": [
    "# test points \n",
    "\n",
    "p1 = Point(24.952242, 60.1696017)\n",
    "type(p1)"
   ]
  },
  {
   "cell_type": "code",
   "execution_count": 18,
   "metadata": {},
   "outputs": [
    {
     "data": {
      "text/plain": [
       "shapely.geometry.point.Point"
      ]
     },
     "execution_count": 18,
     "metadata": {},
     "output_type": "execute_result"
    }
   ],
   "source": [
    "# Test sample of point\n",
    "\n",
    "a = df.iloc[0,-1]\n",
    "type(a)"
   ]
  },
  {
   "cell_type": "code",
   "execution_count": 19,
   "metadata": {},
   "outputs": [
    {
     "data": {
      "text/plain": [
       "shapely.geometry.polygon.Polygon"
      ]
     },
     "execution_count": 19,
     "metadata": {},
     "output_type": "execute_result"
    }
   ],
   "source": [
    "# test of polygon\n",
    "\n",
    "b = astoria.geometry.iloc[0]\n",
    "type(b)"
   ]
  },
  {
   "cell_type": "code",
   "execution_count": 20,
   "metadata": {},
   "outputs": [
    {
     "data": {
      "image/svg+xml": [
       "<svg xmlns=\"http://www.w3.org/2000/svg\" xmlns:xlink=\"http://www.w3.org/1999/xlink\" width=\"100.0\" height=\"100.0\" viewBox=\"-73.93955173547187 40.75200806292893 0.040173381991991164 0.027596506082090855\" preserveAspectRatio=\"xMinYMin meet\"><g transform=\"matrix(1,0,0,-1,0,81.53161263193995)\"><path fill-rule=\"evenodd\" fill=\"#66cc99\" stroke=\"#555555\" stroke-width=\"0.0008034676398398233\" opacity=\"0.6\" d=\"M -73.90160305064738,40.76777029715587 L -73.9026963813229,40.76688928653443 L -73.903569,40.76578 L -73.902184,40.76267 L -73.90108,40.758122 L -73.90086625651662,40.757673593458776 L -73.90737,40.75698800000022 L -73.907828,40.75699900000025 L -73.90907,40.757565000000184 L -73.910618,40.75547600000017 L -73.911294,40.75581400000026 L -73.911568,40.75548000000015 L -73.911764,40.75557300000021 L -73.91351921222132,40.75349596596567 L -73.914467,40.753661 L -73.920865,40.756678 L -73.923372,40.753594 L -73.929751,40.756581 L -73.92538,40.76197 L -73.928425,40.763416 L -73.93779,40.7687 L -73.93806383243512,40.76877139525345 L -73.93757632517332,40.76892399418493 L -73.9368146065473,40.768903947478414 L -73.93681454923521,40.768904133836244 L -73.93668539119415,40.76913305469089 L -73.93670737989193,40.76925260907411 L -73.93640381736213,40.7694748840143 L -73.93616913919566,40.7695161146545 L -73.93574021432643,40.769367229866475 L -73.93573900895063,40.76936819235914 L -73.93573307594339,40.76936722986683 L -73.93524016831189,40.76967932546295 L -73.9348953389456,40.7700418628895 L -73.93469499066984,40.770425338525115 L -73.93514715402601,40.7705419560584 L -73.93500813872225,40.771162394866536 L -73.93494027200501,40.771164020932744 L -73.93490481282652,40.77127064118666 L -73.93452730109453,40.77117677510333 L -73.93448548303907,40.771306523218435 L -73.93485790974904,40.77138291296911 L -73.93487018163428,40.77135361068805 L -73.9349539871499,40.77137294301684 L -73.93492943319868,40.77144023609008 L -73.93483715299813,40.77142013530973 L -73.93484282697518,40.771395793192305 L -73.93448015089062,40.771323068200346 L -73.93447991667557,40.771323794916015 L -73.93443525743179,40.7714623623334 L -73.93482622761701,40.77157695807327 L -73.93479967505871,40.771734138890096 L -73.9374592469878,40.772531495125364 L -73.93780622131219,40.77356289464812 L -73.93785811822777,40.77408756897302 L -73.9376476925252,40.77508568538394 L -73.93638022817542,40.77692145656264 L -73.936089196991,40.77718432207703 L -73.93585452641504,40.77721168462418 L -73.93508232492151,40.77794423372777 L -73.93474353011287,40.77807633537702 L -73.93390441348602,40.77811666597428 L -73.93277477867667,40.7779223887779 L -73.93272210453968,40.77803476711796 L -73.93178834305168,40.777870607104916 L -73.93104964298958,40.77744189731209 L -73.93107377146764,40.77726059439826 L -73.93062856554182,40.77659090274963 L -73.92988058500103,40.77622163190195 L -73.92987609337858,40.77622293858258 L -73.92987344661773,40.77622163190213 L -73.92859801185068,40.77659267510114 L -73.92827730832718,40.7768989753244 L -73.92397602375762,40.77462199867435 L -73.9230356134315,40.77538727850725 L -73.92232316418465,40.77441462556703 L -73.91726183601573,40.77078466951928 L -73.91656339880922,40.770404609262215 L -73.90560467795554,40.768716808251995 L -73.90466691422807,40.76854456793337 L -73.90390566712568,40.76813988075973 L -73.90160305064738,40.76777029715587 z\" /></g></svg>"
      ],
      "text/plain": [
       "<shapely.geometry.polygon.Polygon at 0x7f8f87c5b130>"
      ]
     },
     "execution_count": 20,
     "metadata": {},
     "output_type": "execute_result"
    }
   ],
   "source": [
    "b"
   ]
  },
  {
   "cell_type": "code",
   "execution_count": 21,
   "metadata": {},
   "outputs": [
    {
     "data": {
      "text/plain": [
       "False"
      ]
     },
     "execution_count": 21,
     "metadata": {},
     "output_type": "execute_result"
    }
   ],
   "source": [
    "# Checks intercept of polygon, using the command - contains - \n",
    "\n",
    "b.contains(a)"
   ]
  },
  {
   "cell_type": "code",
   "execution_count": 22,
   "metadata": {},
   "outputs": [
    {
     "name": "stdout",
     "output_type": "stream",
     "text": [
      "number of crashes:  2066\n"
     ]
    }
   ],
   "source": [
    "# apply the contains method to to polygon and points \n",
    "row_indices=[]\n",
    "poly = astoria.geometry.iloc[0]\n",
    "for i, j in df.iterrows():\n",
    "    if (poly.contains(j['geometry'])):\n",
    "        row_indices.append(i)\n",
    "    \n",
    "print('number of crashes: ', len(row_indices))"
   ]
  },
  {
   "cell_type": "code",
   "execution_count": 23,
   "metadata": {},
   "outputs": [
    {
     "data": {
      "text/html": [
       "<div>\n",
       "<style scoped>\n",
       "    .dataframe tbody tr th:only-of-type {\n",
       "        vertical-align: middle;\n",
       "    }\n",
       "\n",
       "    .dataframe tbody tr th {\n",
       "        vertical-align: top;\n",
       "    }\n",
       "\n",
       "    .dataframe thead th {\n",
       "        text-align: right;\n",
       "    }\n",
       "</style>\n",
       "<table border=\"1\" class=\"dataframe\">\n",
       "  <thead>\n",
       "    <tr style=\"text-align: right;\">\n",
       "      <th></th>\n",
       "      <th>date</th>\n",
       "      <th>CRASH DATE</th>\n",
       "      <th>CRASH TIME</th>\n",
       "      <th>BOROUGH</th>\n",
       "      <th>ZIP CODE</th>\n",
       "      <th>LATITUDE</th>\n",
       "      <th>LONGITUDE</th>\n",
       "      <th>LOCATION</th>\n",
       "      <th>CONTRIBUTING FACTOR VEHICLE 1</th>\n",
       "      <th>geometry</th>\n",
       "    </tr>\n",
       "  </thead>\n",
       "  <tbody>\n",
       "    <tr>\n",
       "      <th>55</th>\n",
       "      <td>2019-01-01</td>\n",
       "      <td>01/01/2019</td>\n",
       "      <td>19:30</td>\n",
       "      <td>NaN</td>\n",
       "      <td>NaN</td>\n",
       "      <td>40.766980</td>\n",
       "      <td>-73.916900</td>\n",
       "      <td>(40.76698, -73.9169)</td>\n",
       "      <td>Pedestrian/Bicyclist/Other Pedestrian Error/Co...</td>\n",
       "      <td>POINT (-73.91690 40.76698)</td>\n",
       "    </tr>\n",
       "    <tr>\n",
       "      <th>72</th>\n",
       "      <td>2019-01-01</td>\n",
       "      <td>01/01/2019</td>\n",
       "      <td>9:58</td>\n",
       "      <td>NaN</td>\n",
       "      <td>NaN</td>\n",
       "      <td>40.770390</td>\n",
       "      <td>-73.917710</td>\n",
       "      <td>(40.77039, -73.91771)</td>\n",
       "      <td>Driver Inattention/Distraction</td>\n",
       "      <td>POINT (-73.91771 40.77039)</td>\n",
       "    </tr>\n",
       "    <tr>\n",
       "      <th>204</th>\n",
       "      <td>2019-01-01</td>\n",
       "      <td>01/01/2019</td>\n",
       "      <td>16:55</td>\n",
       "      <td>NaN</td>\n",
       "      <td>NaN</td>\n",
       "      <td>40.758602</td>\n",
       "      <td>-73.913790</td>\n",
       "      <td>(40.758602, -73.91379)</td>\n",
       "      <td>Unspecified</td>\n",
       "      <td>POINT (-73.91379 40.75860)</td>\n",
       "    </tr>\n",
       "    <tr>\n",
       "      <th>368</th>\n",
       "      <td>2019-01-01</td>\n",
       "      <td>01/01/2019</td>\n",
       "      <td>3:30</td>\n",
       "      <td>QUEENS</td>\n",
       "      <td>11103.0</td>\n",
       "      <td>40.759020</td>\n",
       "      <td>-73.913450</td>\n",
       "      <td>(40.75902, -73.91345)</td>\n",
       "      <td>Fatigued/Drowsy</td>\n",
       "      <td>POINT (-73.91345 40.75902)</td>\n",
       "    </tr>\n",
       "    <tr>\n",
       "      <th>534</th>\n",
       "      <td>2019-01-02</td>\n",
       "      <td>01/02/2019</td>\n",
       "      <td>9:30</td>\n",
       "      <td>NaN</td>\n",
       "      <td>NaN</td>\n",
       "      <td>40.769993</td>\n",
       "      <td>-73.915825</td>\n",
       "      <td>(40.769993, -73.915825)</td>\n",
       "      <td>Driver Inattention/Distraction</td>\n",
       "      <td>POINT (-73.91582 40.76999)</td>\n",
       "    </tr>\n",
       "  </tbody>\n",
       "</table>\n",
       "</div>"
      ],
      "text/plain": [
       "           date  CRASH DATE CRASH TIME BOROUGH  ZIP CODE   LATITUDE  \\\n",
       "55   2019-01-01  01/01/2019      19:30     NaN       NaN  40.766980   \n",
       "72   2019-01-01  01/01/2019       9:58     NaN       NaN  40.770390   \n",
       "204  2019-01-01  01/01/2019      16:55     NaN       NaN  40.758602   \n",
       "368  2019-01-01  01/01/2019       3:30  QUEENS   11103.0  40.759020   \n",
       "534  2019-01-02  01/02/2019       9:30     NaN       NaN  40.769993   \n",
       "\n",
       "     LONGITUDE                 LOCATION  \\\n",
       "55  -73.916900     (40.76698, -73.9169)   \n",
       "72  -73.917710    (40.77039, -73.91771)   \n",
       "204 -73.913790   (40.758602, -73.91379)   \n",
       "368 -73.913450    (40.75902, -73.91345)   \n",
       "534 -73.915825  (40.769993, -73.915825)   \n",
       "\n",
       "                         CONTRIBUTING FACTOR VEHICLE 1  \\\n",
       "55   Pedestrian/Bicyclist/Other Pedestrian Error/Co...   \n",
       "72                      Driver Inattention/Distraction   \n",
       "204                                        Unspecified   \n",
       "368                                    Fatigued/Drowsy   \n",
       "534                     Driver Inattention/Distraction   \n",
       "\n",
       "                       geometry  \n",
       "55   POINT (-73.91690 40.76698)  \n",
       "72   POINT (-73.91771 40.77039)  \n",
       "204  POINT (-73.91379 40.75860)  \n",
       "368  POINT (-73.91345 40.75902)  \n",
       "534  POINT (-73.91582 40.76999)  "
      ]
     },
     "execution_count": 23,
     "metadata": {},
     "output_type": "execute_result"
    }
   ],
   "source": [
    "astoria_crashes_2019=df[df.index.isin(row_indices)]\n",
    "astoria_crashes_2019.head()"
   ]
  },
  {
   "cell_type": "code",
   "execution_count": 24,
   "metadata": {},
   "outputs": [],
   "source": [
    "astoria_crashes_2019.to_csv('./data/crashes_in_astoria_2019.csv')"
   ]
  },
  {
   "cell_type": "code",
   "execution_count": 25,
   "metadata": {},
   "outputs": [
    {
     "data": {
      "text/plain": [
       "37"
      ]
     },
     "execution_count": 25,
     "metadata": {},
     "output_type": "execute_result"
    }
   ],
   "source": [
    "contributing_factor_1=astoria_crashes_2019['CONTRIBUTING FACTOR VEHICLE 1'].unique()\n",
    "len(contributing_factor_1)"
   ]
  },
  {
   "cell_type": "markdown",
   "metadata": {},
   "source": [
    "There are 37 unique factors that are listed as contributing factors for vehicle 1."
   ]
  },
  {
   "cell_type": "code",
   "execution_count": 26,
   "metadata": {},
   "outputs": [
    {
     "data": {
      "text/html": [
       "<div>\n",
       "<style scoped>\n",
       "    .dataframe tbody tr th:only-of-type {\n",
       "        vertical-align: middle;\n",
       "    }\n",
       "\n",
       "    .dataframe tbody tr th {\n",
       "        vertical-align: top;\n",
       "    }\n",
       "\n",
       "    .dataframe thead th {\n",
       "        text-align: right;\n",
       "    }\n",
       "</style>\n",
       "<table border=\"1\" class=\"dataframe\">\n",
       "  <thead>\n",
       "    <tr style=\"text-align: right;\">\n",
       "      <th></th>\n",
       "      <th>LOCATION</th>\n",
       "    </tr>\n",
       "    <tr>\n",
       "      <th>CONTRIBUTING FACTOR VEHICLE 1</th>\n",
       "      <th></th>\n",
       "    </tr>\n",
       "  </thead>\n",
       "  <tbody>\n",
       "    <tr>\n",
       "      <th>Driver Inattention/Distraction</th>\n",
       "      <td>619</td>\n",
       "    </tr>\n",
       "    <tr>\n",
       "      <th>Unspecified</th>\n",
       "      <td>318</td>\n",
       "    </tr>\n",
       "    <tr>\n",
       "      <th>Failure to Yield Right-of-Way</th>\n",
       "      <td>206</td>\n",
       "    </tr>\n",
       "    <tr>\n",
       "      <th>Following Too Closely</th>\n",
       "      <td>180</td>\n",
       "    </tr>\n",
       "    <tr>\n",
       "      <th>Passing or Lane Usage Improper</th>\n",
       "      <td>149</td>\n",
       "    </tr>\n",
       "  </tbody>\n",
       "</table>\n",
       "</div>"
      ],
      "text/plain": [
       "                                LOCATION\n",
       "CONTRIBUTING FACTOR VEHICLE 1           \n",
       "Driver Inattention/Distraction       619\n",
       "Unspecified                          318\n",
       "Failure to Yield Right-of-Way        206\n",
       "Following Too Closely                180\n",
       "Passing or Lane Usage Improper       149"
      ]
     },
     "execution_count": 26,
     "metadata": {},
     "output_type": "execute_result"
    }
   ],
   "source": [
    "astoria_crashes_2019_contributing_factors=astoria_crashes_2019.groupby(by='CONTRIBUTING FACTOR VEHICLE 1').count()[['LOCATION']]\n",
    "astoria_crashes_2019_contributing_factors.rename({'LOCATION':'COUNT OF CRASHES'},inplace=True)\n",
    "astoria_crashes_2019_contributing_factors.sort_values(by='LOCATION',ascending=False,inplace=True)\n",
    "astoria_crashes_2019_contributing_factors.head()"
   ]
  },
  {
   "cell_type": "markdown",
   "metadata": {},
   "source": [
    "Let's plot a horizontal barchart to show the number of crashes contributed by each factor."
   ]
  },
  {
   "cell_type": "code",
   "execution_count": 27,
   "metadata": {},
   "outputs": [
    {
     "data": {
      "image/png": "[encoded data removed]",
      "text/plain": [
       "<Figure size 432x288 with 1 Axes>"
      ]
     },
     "metadata": {
      "needs_background": "light"
     },
     "output_type": "display_data"
    }
   ],
   "source": [
    "import matplotlib.pyplot as plt\n",
    "ax=astoria_crashes_2019_contributing_factors.head(10).plot(kind='barh')\n",
    "ax.get_legend().remove()\n",
    "plt.savefig('top_contributing_factors.png')"
   ]
  },
  {
   "cell_type": "markdown",
   "metadata": {},
   "source": [
    "### MAP test"
   ]
  },
  {
   "cell_type": "code",
   "execution_count": null,
   "metadata": {
    "jupyter": {
     "source_hidden": true
    }
   },
   "outputs": [],
   "source": [
    "# map with dots that we can color code\n",
    "\n",
    "\n",
    "m_1 = folium.Map(location=[40.734603, -73.9903599], tiles='cartodbpositron', zoom_start=10.5)\n",
    "\n",
    "def color_producer(val):\n",
    "    if val <= 12:\n",
    "        return 'forestgreen'\n",
    "    else:\n",
    "        return 'darkred'\n",
    "\n",
    "    \n",
    "    \n",
    "    \n",
    "    \n",
    "# Add a bubble map to the base map\n",
    "for i in range(0,len(df)):\n",
    "    Circle(\n",
    "        location=[df.iloc[i]['LATITUDE'], df.iloc[i]['LONGITUDE']],\n",
    "        radius=20,\n",
    "        color='forestgreen').add_to(m_1) #df.iloc[i]['CRASH TIME'])\n",
    "\n",
    "m_1\n"
   ]
  },
  {
   "cell_type": "code",
   "execution_count": null,
   "metadata": {},
   "outputs": [],
   "source": [
    "# Map that clusters the crashes \n",
    "\n",
    "\n",
    "\n",
    "m_2 = folium.Map(location=[40.734603, -73.9903599], tiles='cartodbpositron', zoom_start=10.5)\n",
    "\n",
    "mc = MarkerCluster()\n",
    "for idx, row in astoria_crashes_2019.iterrows():\n",
    "    #if not math.isnan(row['Long']) and not math.isnan(row['Lat']):\n",
    "    mc.add_child(Marker([row['LATITUDE'], row['LONGITUDE']]))\n",
    "m_2.add_child(mc)\n",
    "\n",
    "for i in range(0,len(astoria_crashes_2019)):\n",
    "    Circle(\n",
    "        location=[astoria_crashes_2019.iloc[i]['LATITUDE'], astoria_crashes_2019.iloc[i]['LONGITUDE']],\n",
    "        radius=20,\n",
    "        color='forestgreen').add_to(m_2)\n",
    "\n",
    "m_2"
   ]
  },
  {
   "cell_type": "code",
   "execution_count": null,
   "metadata": {},
   "outputs": [],
   "source": [
    "m_2\n",
    "plt.savefig('Astoria_crashes.png')"
   ]
  },
  {
   "cell_type": "code",
   "execution_count": null,
   "metadata": {},
   "outputs": [],
   "source": []
  }
 ],
 "metadata": {
  "kernelspec": {
   "display_name": "Python 3",
   "language": "python",
   "name": "python3"
  },
  "language_info": {
   "codemirror_mode": {
    "name": "ipython",
    "version": 3
   },
   "file_extension": ".py",
   "mimetype": "text/x-python",
   "name": "python",
   "nbconvert_exporter": "python",
   "pygments_lexer": "ipython3",
   "version": "3.8.5"
  }
 },
 "nbformat": 4,
 "nbformat_minor": 4
}
